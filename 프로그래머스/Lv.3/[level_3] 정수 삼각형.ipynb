{
 "cells": [
  {
   "attachments": {
    "image.png": {
     "image/png": "[encoded data removed]"
    }
   },
   "cell_type": "markdown",
   "metadata": {},
   "source": [
    "### 문제 설명\n",
    "![image.png](attachment:image.png)\n",
    "\n",
    "삼각형의 꼭대기에서 바닥까지 이어지는 경로 중, 거쳐간 숫자의 합이 가장 큰 경우를 찾아보려고 합니다. 아래 칸으로 이동할 때는 대각선 방향으로 한 칸 오른쪽 또는 왼쪽으로만 이동 가능합니다. 예를 들어 3에서는 그 아래칸의 8 또는 1로만 이동이 가능합니다.\n",
    "\n",
    "삼각형의 정보가 담긴 배열 triangle이 매개변수로 주어질 때, 거쳐간 숫자의 최댓값을 return 하도록 solution 함수를 완성하세요.\n",
    "\n",
    "### 제한사항\n",
    "삼각형의 높이는 1 이상 500 이하입니다.\n",
    "삼각형을 이루고 있는 숫자는 0 이상 9,999 이하의 정수입니다."
   ]
  },
  {
   "cell_type": "code",
   "execution_count": 2,
   "metadata": {},
   "outputs": [
    {
     "name": "stdout",
     "output_type": "stream",
     "text": [
      "[[7], [10, 15], [-1, -1, -1], [-1, -1, -1, -1], [-1, -1, -1, -1, -1]]\n",
      "n: 2 i: 0 dp[n][i]: -1\n",
      "after / n: 2 i: 0 dp[n][i]: 18\n",
      "n: 2 i: 1 dp[n][i]: 11\n",
      "after / n: 2 i: 1 dp[n][i]: 16\n",
      "n: 3 i: 0 dp[n][i]: -1\n",
      "after / n: 3 i: 0 dp[n][i]: 20\n",
      "n: 3 i: 1 dp[n][i]: 25\n",
      "after / n: 3 i: 1 dp[n][i]: 25\n",
      "n: 3 i: 2 dp[n][i]: 20\n",
      "after / n: 3 i: 2 dp[n][i]: 20\n",
      "n: 4 i: 0 dp[n][i]: -1\n",
      "after / n: 4 i: 0 dp[n][i]: 24\n",
      "n: 4 i: 1 dp[n][i]: 25\n",
      "after / n: 4 i: 1 dp[n][i]: 30\n",
      "n: 4 i: 2 dp[n][i]: 27\n",
      "after / n: 4 i: 2 dp[n][i]: 27\n",
      "n: 4 i: 3 dp[n][i]: 26\n",
      "after / n: 4 i: 3 dp[n][i]: 26\n",
      "[[7], [10, 15], [18, 16, 15], [20, 25, 20, 19], [24, 30, 27, 26, 24]]\n"
     ]
    },
    {
     "data": {
      "text/plain": [
       "30"
      ]
     },
     "execution_count": 2,
     "metadata": {},
     "output_type": "execute_result"
    }
   ],
   "source": [
    "# 각 리스트 최대값 저장 \n",
    "# 이전dp값 + 2개씩(노드) > 최대값 dp 저장 \n",
    "def solution(triangle):\n",
    "    answer = 0\n",
    "    len_t = len(triangle)\n",
    "    dp = []\n",
    "    for i in range(1,len_t+1):\n",
    "        dp.append([-1] * i)\n",
    "    dp[0] = [triangle[0][0]]\n",
    "    dp[1][0],dp[1][1] = triangle[1][0]+triangle[0][0],triangle[1][1]+triangle[0][0]\n",
    "    print(dp)\n",
    "    # 삼각형 높이 1이상\n",
    "    if len_t == 1 or len_t == 2:\n",
    "        return max(max(dp))\n",
    "\n",
    "    for n in range(2,len(triangle)):\n",
    "        for i in range(n):\n",
    "            print(f\"n: {n} i: {i} dp[n][i]: {dp[n][i]}\")\n",
    "            # if dp[n][i] != -1:\n",
    "            #     return answer\n",
    "            if n == i :\n",
    "                if triangle[n][i] + triangle[n-1][i] > dp[n][i]:\n",
    "                    dp[n][i] = triangle[n][i] + dp[n-1][i]\n",
    "                continue\n",
    "                \n",
    "            if triangle[n][i] + dp[n-1][i] > dp[n][i]:\n",
    "                dp[n][i] = triangle[n][i] + dp[n-1][i]\n",
    "            \n",
    "            if triangle[n][i+1] + dp[n-1][i] > dp[n][i+1]:\n",
    "                dp[n][i+1] = triangle[n][i+1] + dp[n-1][i]\n",
    "            print(f\"after / n: {n} i: {i} dp[n][i]: {dp[n][i]}\")\n",
    "    print(dp)\n",
    "    answer = max(max(dp))\n",
    "        \n",
    "    #     for idx,i in enumerate(n):\n",
    "    #         if idx == 0:\n",
    "    #             dp[idx] = n\n",
    "                \n",
    "    #         dp[idx] = dp[idx-1]+dp[idx-2]\n",
    "        \n",
    "    # 0 01  012 0123    01234\n",
    "    # 2 00/73 01/78\n",
    "    # 4 000/738 001/731 011/781 012/780\n",
    "    # 8 0000/7382 0001/7387 0011/7317 0012/7314 0111/7817 0112/7814 0122/7804 0123/7804\n",
    "    # 16 00000/73824 00001/73825 00011/73875 00012/73872 00111/73175 00112/73172 00122/73142 00123/73146 01111/78175 01112/78172  01122/78142 01123/78146 01222/78042 01223/78046 01233/78046 01234/78045\n",
    "    # 이전 최대값 dp에 저장 \n",
    "    # dp 2차배열 \n",
    "    # 이전dp값 + 2개씩 > 최대값 dp 저장 \n",
    "    # \n",
    "    # \n",
    "\n",
    "    return answer\n",
    "# triangle = [[7], [3, 8]]\n",
    "triangle = [[7], [3, 8], [8, 1, 0], [2, 7, 4, 4], [4, 5, 2, 6, 5]]\n",
    "# result 30\n",
    "solution(triangle)"
   ]
  },
  {
   "cell_type": "code",
   "execution_count": 29,
   "metadata": {},
   "outputs": [
    {
     "data": {
      "text/plain": [
       "2"
      ]
     },
     "execution_count": 29,
     "metadata": {},
     "output_type": "execute_result"
    }
   ],
   "source": [
    "test = [1,2]\n",
    "max(test)"
   ]
  }
 ],
 "metadata": {
  "kernelspec": {
   "display_name": "CDT",
   "language": "python",
   "name": "python3"
  },
  "language_info": {
   "codemirror_mode": {
    "name": "ipython",
    "version": 3
   },
   "file_extension": ".py",
   "mimetype": "text/x-python",
   "name": "python",
   "nbconvert_exporter": "python",
   "pygments_lexer": "ipython3",
   "version": "3.10.0"
  },
  "orig_nbformat": 4
 },
 "nbformat": 4,
 "nbformat_minor": 2
}
