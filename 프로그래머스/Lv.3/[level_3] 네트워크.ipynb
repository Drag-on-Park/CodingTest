{
 "cells": [
  {
   "cell_type": "markdown",
   "id": "3f2ffaf4",
   "metadata": {},
   "source": [
    "### 문제 설명\n",
    "네트워크란 컴퓨터 상호 간에 정보를 교환할 수 있도록 연결된 형태를 의미합니다. 예를 들어, 컴퓨터 A와 컴퓨터 B가 직접적으로 연결되어있고, 컴퓨터 B와 컴퓨터 C가 직접적으로 연결되어 있을 때 컴퓨터 A와 컴퓨터 C도 간접적으로 연결되어 정보를 교환할 수 있습니다. 따라서 컴퓨터 A, B, C는 모두 같은 네트워크 상에 있다고 할 수 있습니다.\n",
    "\n",
    "컴퓨터의 개수 n, 연결에 대한 정보가 담긴 2차원 배열 computers가 매개변수로 주어질 때, 네트워크의 개수를 return 하도록 solution 함수를 작성하시오.\n",
    "\n",
    "### 제한사항\n",
    "- 컴퓨터의 개수 n은 1 이상 200 이하인 자연수입니다.\n",
    "- 각 컴퓨터는 0부터 n-1인 정수로 표현합니다.\n",
    "- i번 컴퓨터와 j번 컴퓨터가 연결되어 있으면 computers[i][j]를 1로 표현합니다.\n",
    "- computer[i][i]는 항상 1입니다.\n"
   ]
  },
  {
   "cell_type": "code",
   "execution_count": 4,
   "id": "922a4385",
   "metadata": {},
   "outputs": [
    {
     "ename": "KeyboardInterrupt",
     "evalue": "",
     "output_type": "error",
     "traceback": [
      "\u001b[0;31m---------------------------------------------------------------------------\u001b[0m",
      "\u001b[0;31mKeyboardInterrupt\u001b[0m                         Traceback (most recent call last)",
      "Cell \u001b[0;32mIn[4], line 47\u001b[0m\n\u001b[1;32m     45\u001b[0m computers \u001b[39m=\u001b[39m [[\u001b[39m1\u001b[39m, \u001b[39m1\u001b[39m, \u001b[39m0\u001b[39m, \u001b[39m1\u001b[39m], [\u001b[39m1\u001b[39m, \u001b[39m1\u001b[39m, \u001b[39m1\u001b[39m, \u001b[39m0\u001b[39m], [\u001b[39m0\u001b[39m, \u001b[39m1\u001b[39m, \u001b[39m1\u001b[39m, \u001b[39m1\u001b[39m], [\u001b[39m1\u001b[39m, \u001b[39m0\u001b[39m, \u001b[39m1\u001b[39m, \u001b[39m1\u001b[39m]]\t\n\u001b[1;32m     46\u001b[0m \u001b[39m# return 1\u001b[39;00m\n\u001b[0;32m---> 47\u001b[0m solution(n, computers)\n",
      "Cell \u001b[0;32mIn[4], line 28\u001b[0m, in \u001b[0;36msolution\u001b[0;34m(n, computers)\u001b[0m\n\u001b[1;32m     26\u001b[0m \u001b[39mif\u001b[39;00m computers[j][idx] \u001b[39m==\u001b[39m \u001b[39m1\u001b[39m:\n\u001b[1;32m     27\u001b[0m     visited[j][idx] \u001b[39m=\u001b[39m \u001b[39mTrue\u001b[39;00m\n\u001b[0;32m---> 28\u001b[0m     queue\u001b[39m.\u001b[39;49mappend((i,j,\u001b[39m1\u001b[39;49m))\n\u001b[1;32m     30\u001b[0m \u001b[39m# 상대 컴퓨터도 1인지 \u001b[39;00m\n\u001b[1;32m     31\u001b[0m \u001b[39m# 리스트의 마지막\u001b[39;00m\n\u001b[1;32m     32\u001b[0m \u001b[39mif\u001b[39;00m i \u001b[39m==\u001b[39m n \u001b[39mand\u001b[39;00m j \u001b[39m==\u001b[39m n:\n",
      "\u001b[0;31mKeyboardInterrupt\u001b[0m: "
     ]
    }
   ],
   "source": [
    "from collections import deque\n",
    "def solution(n, computers):\n",
    "    network = 0\n",
    "    start = 0\n",
    "    end = 0\n",
    "    # queue [0][0] 1    [1][1] 1    [2][2] 1    [3][3] 1\n",
    "    # network / \n",
    "    queue = deque([(start,end,network)])\n",
    "    visited = [[False] * n for _ in range(n)]\n",
    "    \n",
    "    # (1,2)(1,4)  (2,3)   (3,4)\n",
    "    #\n",
    "    while queue:\n",
    "        for idx,i in enumerate(computers):\n",
    "            # queue가 비었는데 계속 돔 \n",
    "            v = queue.popleft()\n",
    "\n",
    "            # 자기 컴퓨터가 1인지\n",
    "            if computers[idx][idx] == 1:\n",
    "                visited[idx][idx] = True\n",
    "\n",
    "            for j in range(n):\n",
    "                # 방문했는지\n",
    "                if visited[idx][j] == False:\n",
    "                    # 네트워크 연결됐는지 \n",
    "                    if computers[idx][j] == 1:\n",
    "                        visited[idx][j] = True\n",
    "                        if computers[j][idx] == 1:\n",
    "                            visited[j][idx] = True\n",
    "                            queue.append((i,j,1))\n",
    "                        \n",
    "                        # 상대 컴퓨터도 1인지 \n",
    "                        # 리스트의 마지막\n",
    "                        if i == n and j == n:\n",
    "                            return v[3]\n",
    "\n",
    "\n",
    "    return network\n",
    "\n",
    "n = 3\t\n",
    "computers = [[1, 1, 0], [1, 1, 0], [0, 0, 1]]\t\n",
    "# return 2\n",
    "n = 3\t\n",
    "computers = [[1, 1, 0], [1, 1, 1], [0, 1, 1]]\n",
    "# return 1\n",
    "n = 4\n",
    "computers = [[1, 1, 0, 1], [1, 1, 1, 0], [0, 1, 1, 1], [1, 0, 1, 1]]\t\n",
    "# return 1\n",
    "solution(n, computers)"
   ]
  },
  {
   "cell_type": "code",
   "execution_count": 22,
   "id": "816fb18e",
   "metadata": {},
   "outputs": [
    {
     "name": "stdout",
     "output_type": "stream",
     "text": [
      "deque([0])\n",
      "[True, False, False]\n",
      "append_queue:deque([1])\n",
      "deque([2])\n",
      "[True, True, True]\n"
     ]
    },
    {
     "data": {
      "text/plain": [
       "2"
      ]
     },
     "execution_count": 22,
     "metadata": {},
     "output_type": "execute_result"
    }
   ],
   "source": [
    "# 각각 검사 \n",
    "from collections import deque\n",
    "def solution(n, computers):\n",
    "    network = 0\n",
    "\n",
    "    # queue [0][0] 1    [1][1] 1    [2][2] 1    [3][3] 1\n",
    "    # network / \n",
    "    visited = [False] * n\n",
    "    \n",
    "    # (1,2)(1,4)  (2,3)   (3,4)\n",
    "    for i in range(n):\n",
    "        if visited[i] == False:\n",
    "            queue = deque([i])\n",
    "            print(queue)\n",
    "            visited[i] = True\n",
    "            print(visited)\n",
    "\n",
    "            while queue:\n",
    "                v = queue.popleft()\n",
    "                \n",
    "                for j in range(n):\n",
    "                    # 방문했는지\n",
    "                    if visited[j] == False:\n",
    "\n",
    "                        # 네트워크 연결 됐는지\n",
    "                        if computers[v][j] == 1:\n",
    "                            visited[j] = True\n",
    "                            queue.append(j)\n",
    "                            print(f\"append_queue:{queue}\")\n",
    "            network += 1\n",
    "\n",
    "    return network\n",
    "\n",
    "n = 3\t\n",
    "computers = [[1, 1, 0], [1, 1, 0], [0, 0, 1]]\t\n",
    "# return 2\n",
    "# n = 3\t\n",
    "# computers = [[1, 1, 0], [1, 1, 1], [0, 1, 1]]\n",
    "# return 1\n",
    "# n = 4\n",
    "# computers = [[1, 1, 0, 1], [1, 1, 1, 0], [0, 1, 1, 1], [1, 0, 1, 1]]\t\n",
    "# return 1\n",
    "solution(n, computers)"
   ]
  },
  {
   "cell_type": "code",
   "execution_count": 21,
   "id": "c53a6cc4",
   "metadata": {},
   "outputs": [
    {
     "data": {
      "text/plain": [
       "1"
      ]
     },
     "execution_count": 21,
     "metadata": {},
     "output_type": "execute_result"
    }
   ],
   "source": [
    "from collections import deque\n",
    "def solution(n, computers):\n",
    "    network = 0\n",
    "    visited = [False]*n\n",
    "    for i in range(n):\n",
    "        queue = deque([i])\n",
    "        if visited[i] == False:\n",
    "            visited[i] = True\n",
    "\n",
    "            while queue:\n",
    "                v = queue.popleft()\n",
    "\n",
    "                for j in range(n):\n",
    "                    # 방문했는지\n",
    "                    if visited[j] == False:\n",
    "                        # 네트워크 연결됐는지 \n",
    "                        if computers[v][j] == 1:\n",
    "                            visited[j] = True                           \n",
    "                            queue.append(j)\n",
    "            network += 1\n",
    "    return network\n",
    "\n",
    "n = 3\t\n",
    "computers = [[1, 1, 0], [1, 1, 0], [0, 0, 1]]\t\n",
    "# return 2\n",
    "n = 3\t\n",
    "computers = [[1, 1, 0], [1, 1, 1], [0, 1, 1]]\n",
    "# return 1\n",
    "n = 4\n",
    "computers = [[1, 1, 0, 1], [1, 1, 1, 0], [0, 1, 1, 1], [1, 0, 1, 1]]\t\n",
    "# return 1\n",
    "solution(n, computers)"
   ]
  },
  {
   "cell_type": "code",
   "execution_count": 11,
   "id": "d86bd6e6",
   "metadata": {},
   "outputs": [
    {
     "name": "stdout",
     "output_type": "stream",
     "text": [
      "[False, False, False, False]\n",
      "n: no\n",
      "n: no\n",
      "n: no\n",
      "n: no\n"
     ]
    }
   ],
   "source": [
    "n = 4\n",
    "visit = [False]* n\n",
    "print(visit)\n",
    "for i in range(n):\n",
    "    if visit[i] == False:\n",
    "        print(\"n: no\")"
   ]
  },
  {
   "cell_type": "code",
   "execution_count": null,
   "id": "3cf4efdb",
   "metadata": {},
   "outputs": [],
   "source": [
    "# 최단거리\n",
    "\n",
    "from collections import deque\n",
    "def solution(maps):\n",
    "    answer = -1\n",
    "\n",
    "    def bfs(maps, y, x, distance, visited):\n",
    "        queue = deque([(y,x,distance)])\n",
    "        visited[y][x] = True\n",
    "        dy = [-1, 1, 0, 0] # 위 아래\n",
    "        dx = [0, 0, -1, 1] # 왼쪽 오른쪽\n",
    "\n",
    "        while queue:\n",
    "            v = queue.popleft()\n",
    "            print(v, end = '')\n",
    "            for i in range(4):\n",
    "                ny = v[0] + dy[i]\n",
    "                nx = v[1] + dx[i]\n",
    "                if 0 <= ny < len(maps) and 0 <= nx < len(maps[0]):\n",
    "                    if maps[ny][nx] == 1:\n",
    "                        if visited[ny][nx] == False:\n",
    "                            distance = v[2] + 1\n",
    "                            queue.append((ny,nx,distance))\n",
    "                            visited[ny][nx] = True\n",
    "                            if ny == len(maps)-1 and nx == len(maps[0])-1:\n",
    "                                print(distance)\n",
    "                                return distance \n",
    "        return -1\n",
    "\n",
    "    visited = [[False] * len(maps[0]) for _ in range(len(maps))]\n",
    "    answer = bfs(maps,0,0,1,visited) \n",
    "    # 처음 설정한 불필요 코드 같이 제출됨\n",
    "    return answer\n",
    "\n",
    "maps\t= [[1,0,1,1,1],[1,0,1,0,1],[1,0,1,1,1],[1,1,1,0,1],[0,0,0,0,1]]\n",
    "solution(maps)\n"
   ]
  },
  {
   "cell_type": "code",
   "execution_count": null,
   "id": "c61b279e",
   "metadata": {},
   "outputs": [],
   "source": [
    "# 단어 변환\n",
    "from collections import deque\n",
    "\n",
    "def solution(begin, target, words):\n",
    "    if target not in words:\n",
    "        return 0\n",
    "    def one_diff(a, b):\n",
    "        count = 0\n",
    "        for i in range(len(a)):\n",
    "            if a[i] != b[i]:\n",
    "                count += 1\n",
    "        return count == 1\n",
    "\n",
    "    answer = 0\n",
    "    queue = deque([(begin,0)])\n",
    "    visited = {i:False for i in words}\n",
    "\n",
    "    while queue:\n",
    "          v, steps = queue.popleft()\n",
    "          if v == target:\n",
    "              print(answer)\n",
    "              return steps\n",
    "\n",
    "          for one in words:\n",
    "              if one_diff(one, v) and not visited[one]:\n",
    "                    visited[one] = True\n",
    "                    print(visited)\n",
    "                    queue.append((one, steps+1))\n",
    "                    print(queue)\n",
    "    \n",
    "    return 0\n",
    "\n",
    "      # 한번에 한글자\n",
    "      # 최종 타겟\n",
    "\n",
    "begin = \"hit\"\n",
    "target = \"cog\"\n",
    "words = \t[\"hot\", \"dot\", \"dog\", \"lot\", \"log\", \"cog\"]\n",
    "# return 4\n",
    "\n",
    "# begin = \"hit\"\n",
    "# target = \"cog\"\n",
    "# words = \t[\"hot\", \"dot\", \"dog\", \"lot\", \"log\"]\n",
    "# # return 0\n",
    "\n",
    "solution(begin, target, words)"
   ]
  },
  {
   "cell_type": "markdown",
   "id": "9231dc2a",
   "metadata": {},
   "source": [
    "0,0 0,1 0,2\n",
    "1   1   0\n",
    "1,0 1,1 1,2\n",
    "1   1   0\n",
    "2,0 2,1 2,2\n",
    "0   0   1\n",
    "\n"
   ]
  }
 ],
 "metadata": {
  "kernelspec": {
   "display_name": "CDT",
   "language": "python",
   "name": "python3"
  },
  "language_info": {
   "codemirror_mode": {
    "name": "ipython",
    "version": 3
   },
   "file_extension": ".py",
   "mimetype": "text/x-python",
   "name": "python",
   "nbconvert_exporter": "python",
   "pygments_lexer": "ipython3",
   "version": "3.10.0"
  }
 },
 "nbformat": 4,
 "nbformat_minor": 5
}
