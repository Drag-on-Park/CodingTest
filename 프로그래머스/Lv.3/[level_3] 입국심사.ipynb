{
 "cells": [
  {
   "attachments": {},
   "cell_type": "markdown",
   "metadata": {},
   "source": [
    "### 문제 설명\n",
    "n명이 입국심사를 위해 줄을 서서 기다리고 있습니다. 각 입국심사대에 있는 심사관마다 심사하는데 걸리는 시간은 다릅니다.\n",
    "\n",
    "처음에 모든 심사대는 비어있습니다. 한 심사대에서는 동시에 한 명만 심사를 할 수 있습니다. 가장 앞에 서 있는 사람은 비어 있는 심사대로 가서 심사를 받을 수 있습니다. 하지만 더 빨리 끝나는 심사대가 있으면 기다렸다가 그곳으로 가서 심사를 받을 수도 있습니다.\n",
    "\n",
    "모든 사람이 심사를 받는데 걸리는 시간을 최소로 하고 싶습니다.\n",
    "\n",
    "입국심사를 기다리는 사람 수 n, 각 심사관이 한 명을 심사하는데 걸리는 시간이 담긴 배열 times가 매개변수로 주어질 때, 모든 사람이 심사를 받는데 걸리는 시간의 최솟값을 return 하도록 solution 함수를 작성해주세요.\n",
    "\n",
    "### 제한사항\n",
    "입국심사를 기다리는 사람은 1명 이상 1,000,000,000명 이하입니다.\n",
    "각 심사관이 한 명을 심사하는데 걸리는 시간은 1분 이상 1,000,000,000분 이하입니다.\n",
    "심사관은 1명 이상 100,000명 이하입니다."
   ]
  },
  {
   "cell_type": "code",
   "execution_count": 3,
   "metadata": {},
   "outputs": [
    {
     "data": {
      "text/plain": [
       "0"
      ]
     },
     "execution_count": 3,
     "metadata": {},
     "output_type": "execute_result"
    }
   ],
   "source": [
    "# 사람 만큼 반복 \n",
    "# 시간이 끝나는 구간마다 사람 -1\n",
    "# 마지막 사람의 구간에선 어떤 시간이 더 빨리 끝나는지 확인 \n",
    "# times 리스트를 반으로 나누면?\n",
    "# 주어진 시간 안에 몇 명을 처리할 수 있는지\"\n",
    "# 최소한의 시간\n",
    "\n",
    "\n",
    "def solution(n, times):\n",
    "    answer = 0\n",
    "    # times_c = times.copy()\n",
    "    psb_n = 0\n",
    "    left, right = 1, max(times) * n\n",
    "    while left < right:\n",
    "        mid = (left + right) // 2\n",
    "        psb_n = sum(mid // t for t in times)\n",
    "        if psb_n < n:\n",
    "            left = mid + 1\n",
    "        else:\n",
    "            right = mid\n",
    "\n",
    "                \n",
    "    return left (or right)\n",
    "\n",
    "n = 6\n",
    "times =[7, 10]\n",
    "# 2:5 3:3 4:2 5:2 7:1 10:1\n",
    "times =[2, 3, 4, 5, 7, 10]\n",
    "# return 28\n",
    "solution(n, times)"
   ]
  },
  {
   "cell_type": "code",
   "execution_count": 4,
   "metadata": {},
   "outputs": [
    {
     "data": {
      "text/plain": [
       "6"
      ]
     },
     "execution_count": 4,
     "metadata": {},
     "output_type": "execute_result"
    }
   ],
   "source": [
    "# 사람 만큼 반복 \n",
    "# 시간이 끝나는 구간마다 사람 -1\n",
    "# 마지막 사람의 구간에선 어떤 시간이 더 빨리 끝나는지 확인 \n",
    "# times 리스트를 반으로 나누면?\n",
    "# 주어진 시간 안에 몇 명을 처리할 수 있는지\"\n",
    "# 최소한의 시간\n",
    "\n",
    "\n",
    "def solution(n, times):\n",
    "    answer = 0\n",
    "    psb_n = 0\n",
    "    left, right = 1, max(times) * n\n",
    "    while left < right:\n",
    "        mid = (left + right) // 2\n",
    "        psb_n = sum(mid // t for t in times)\n",
    "        if psb_n < n:\n",
    "            left = mid + 1\n",
    "        else:\n",
    "            right = mid\n",
    "\n",
    "                \n",
    "    return left \n",
    "# (or right)\n",
    "\n",
    "n = 6\n",
    "# times =[7, 10]\n",
    "# 2:5 3:3 4:2 5:2 7:1 10:1\n",
    "times =[2, 3, 4, 5, 7, 10]\n",
    "# return 28\n",
    "solution(n, times)"
   ]
  }
 ],
 "metadata": {
  "kernelspec": {
   "display_name": "CDT",
   "language": "python",
   "name": "python3"
  },
  "language_info": {
   "codemirror_mode": {
    "name": "ipython",
    "version": 3
   },
   "file_extension": ".py",
   "mimetype": "text/x-python",
   "name": "python",
   "nbconvert_exporter": "python",
   "pygments_lexer": "ipython3",
   "version": "3.10.0"
  },
  "orig_nbformat": 4
 },
 "nbformat": 4,
 "nbformat_minor": 2
}
