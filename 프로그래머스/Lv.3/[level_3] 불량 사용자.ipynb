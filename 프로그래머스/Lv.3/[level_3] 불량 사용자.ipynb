{
 "cells": [
  {
   "attachments": {},
   "cell_type": "markdown",
   "metadata": {},
   "source": [
    "### 문제 설명\n",
    "개발팀 내에서 이벤트 개발을 담당하고 있는 \"무지\"는 최근 진행된 카카오이모티콘 이벤트에 비정상적인 방법으로 당첨을 시도한 응모자들을 발견하였습니다. 이런 응모자들을 따로 모아 불량 사용자라는 이름으로 목록을 만들어서 당첨 처리 시 제외하도록 이벤트 당첨자 담당자인 \"프로도\" 에게 전달하려고 합니다. 이 때 개인정보 보호을 위해 사용자 아이디 중 일부 문자를 '*' 문자로 가려서 전달했습니다. 가리고자 하는 문자 하나에 '*' 문자 하나를 사용하였고 아이디 당 최소 하나 이상의 '*' 문자를 사용하였습니다.\n",
    "\"무지\"와 \"프로도\"는 불량 사용자 목록에 매핑된 응모자 아이디를 제재 아이디 라고 부르기로 하였습니다.\n",
    "\n",
    "예를 들어, 이벤트에 응모한 전체 사용자 아이디 목록이 다음과 같다면\n",
    "\n",
    "응모자 아이디\n",
    "frodo\n",
    "fradi\n",
    "crodo\n",
    "abc123\n",
    "frodoc\n",
    "다음과 같이 불량 사용자 아이디 목록이 전달된 경우,\n",
    "\n",
    "불량 사용자\n",
    "fr*d*\n",
    "abc1**\n",
    "불량 사용자에 매핑되어 당첨에서 제외되어야 야 할 제재 아이디 목록은 다음과 같이 두 가지 경우가 있을 수 있습니다.\n",
    "\n",
    "제재 아이디\n",
    "frodo\n",
    "abc123\n",
    "제재 아이디\n",
    "fradi\n",
    "abc123\n",
    "이벤트 응모자 아이디 목록이 담긴 배열 user_id와 불량 사용자 아이디 목록이 담긴 배열 banned_id가 매개변수로 주어질 때, 당첨에서 제외되어야 할 제재 아이디 목록은 몇가지 경우의 수가 가능한 지 return 하도록 solution 함수를 완성해주세요.\n",
    "\n",
    "### [제한사항]\n",
    "user_id 배열의 크기는 1 이상 8 이하입니다.\n",
    "user_id 배열 각 원소들의 값은 길이가 1 이상 8 이하인 문자열입니다.\n",
    "응모한 사용자 아이디들은 서로 중복되지 않습니다.\n",
    "응모한 사용자 아이디는 알파벳 소문자와 숫자로만으로 구성되어 있습니다.\n",
    "banned_id 배열의 크기는 1 이상 user_id 배열의 크기 이하입니다.\n",
    "banned_id 배열 각 원소들의 값은 길이가 1 이상 8 이하인 문자열입니다.\n",
    "불량 사용자 아이디는 알파벳 소문자와 숫자, 가리기 위한 문자 '*' 로만 이루어져 있습니다.\n",
    "불량 사용자 아이디는 '*' 문자를 하나 이상 포함하고 있습니다.\n",
    "불량 사용자 아이디 하나는 응모자 아이디 중 하나에 해당하고 같은 응모자 아이디가 중복해서 제재 아이디 목록에 들어가는 경우는 없습니다.\n",
    "제재 아이디 목록들을 구했을 때 아이디들이 나열된 순서와 관계없이 아이디 목록의 내용이 동일하다면 같은 것으로 처리하여 하나로 세면 됩니다."
   ]
  },
  {
   "cell_type": "code",
   "execution_count": 7,
   "metadata": {},
   "outputs": [
    {
     "name": "stdout",
     "output_type": "stream",
     "text": [
      "{'fr*d*': ['f', 'r', '*', 'd', '*'], '*rodo': ['*', 'r', 'o', 'd', 'o'], '******': ['*', '*', '*', '*', '*', '*']}\n",
      "j:o stack:[]\n"
     ]
    },
    {
     "ename": "IndexError",
     "evalue": "list index out of range",
     "output_type": "error",
     "traceback": [
      "\u001b[0;31m---------------------------------------------------------------------------\u001b[0m",
      "\u001b[0;31mIndexError\u001b[0m                                Traceback (most recent call last)",
      "Cell \u001b[0;32mIn[7], line 38\u001b[0m\n\u001b[1;32m     36\u001b[0m banned_id \u001b[39m=\u001b[39m [\u001b[39m\"\u001b[39m\u001b[39mfr*d*\u001b[39m\u001b[39m\"\u001b[39m, \u001b[39m\"\u001b[39m\u001b[39m*rodo\u001b[39m\u001b[39m\"\u001b[39m, \u001b[39m\"\u001b[39m\u001b[39m******\u001b[39m\u001b[39m\"\u001b[39m, \u001b[39m\"\u001b[39m\u001b[39m******\u001b[39m\u001b[39m\"\u001b[39m]\n\u001b[1;32m     37\u001b[0m \u001b[39m# result 3\u001b[39;00m\n\u001b[0;32m---> 38\u001b[0m solution(user_id, banned_id)\n",
      "Cell \u001b[0;32mIn[7], line 20\u001b[0m, in \u001b[0;36msolution\u001b[0;34m(user_id, banned_id)\u001b[0m\n\u001b[1;32m     18\u001b[0m \u001b[39mfor\u001b[39;00m j \u001b[39min\u001b[39;00m i[::\u001b[39m-\u001b[39m\u001b[39m1\u001b[39m]:\n\u001b[1;32m     19\u001b[0m     \u001b[39mprint\u001b[39m(\u001b[39mf\u001b[39m\u001b[39m\"\u001b[39m\u001b[39mj:\u001b[39m\u001b[39m{\u001b[39;00mj\u001b[39m}\u001b[39;00m\u001b[39m stack:\u001b[39m\u001b[39m{\u001b[39;00mstack\u001b[39m}\u001b[39;00m\u001b[39m\"\u001b[39m)\n\u001b[0;32m---> 20\u001b[0m     \u001b[39mif\u001b[39;00m j \u001b[39m==\u001b[39m stack[idx]:\n\u001b[1;32m     21\u001b[0m         stack\u001b[39m.\u001b[39mpop()\n\u001b[1;32m     22\u001b[0m     \u001b[39mif\u001b[39;00m j \u001b[39m==\u001b[39m \u001b[39m\"\u001b[39m\u001b[39m*\u001b[39m\u001b[39m\"\u001b[39m:\n",
      "\u001b[0;31mIndexError\u001b[0m: list index out of range"
     ]
    }
   ],
   "source": [
    "def solution(user_id, banned_id):\n",
    "    answer = 0\n",
    "    # 스택으로 같은 라인 하나씩 확인 fr*d* frd가 각인덱스에 맞는다면 후보 \n",
    "    # 세트로 만들어서 fr*d*에 리스트 abc1**에 리스트 \n",
    "    # 경우의 수 (중복일 경우)\n",
    "    temp = {}\n",
    "    for z in banned_id:\n",
    "        list_b = []\n",
    "        if z not in temp:\n",
    "            for i in z:\n",
    "                list_b.append(i)\n",
    "            temp[z] = list_b\n",
    "    print(temp)\n",
    "    stack = []\n",
    "    for _ in banned_id:\n",
    "        for idx,i in enumerate(user_id):\n",
    "            \n",
    "            for j in i[::-1]:\n",
    "                print(f\"j:{j} stack:{stack}\")\n",
    "                if j == stack[idx]:\n",
    "                    stack.pop()\n",
    "                if j == \"*\":\n",
    "                    stack.pop()\n",
    "\n",
    "                \n",
    "            \n",
    "    return answer\n",
    "\n",
    "user_id = [\"frodo\", \"fradi\", \"crodo\", \"abc123\", \"frodoc\"]\n",
    "banned_id = [\"fr*d*\", \"abc1**\"]\n",
    "# result 2\n",
    "user_id = [\"frodo\", \"fradi\", \"crodo\", \"abc123\", \"frodoc\"]\n",
    "banned_id = [\"*rodo\", \"*rodo\", \"******\"]\n",
    "# result 2\n",
    "user_id = [\"frodo\", \"fradi\", \"crodo\", \"abc123\", \"frodoc\"]\n",
    "banned_id = [\"fr*d*\", \"*rodo\", \"******\", \"******\"]\n",
    "# result 3\n",
    "solution(user_id, banned_id)"
   ]
  }
 ],
 "metadata": {
  "kernelspec": {
   "display_name": "CDT",
   "language": "python",
   "name": "python3"
  },
  "language_info": {
   "codemirror_mode": {
    "name": "ipython",
    "version": 3
   },
   "file_extension": ".py",
   "mimetype": "text/x-python",
   "name": "python",
   "nbconvert_exporter": "python",
   "pygments_lexer": "ipython3",
   "version": "3.10.0"
  },
  "orig_nbformat": 4
 },
 "nbformat": 4,
 "nbformat_minor": 2
}
