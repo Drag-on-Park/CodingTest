{
 "cells": [
  {
   "cell_type": "markdown",
   "id": "4ebf9af7",
   "metadata": {},
   "source": [
    "### 문제 설명\n",
    "대문자와 소문자가 섞여있는 문자열 s가 주어집니다. s에 'p'의 개수와 'y'의 개수를 비교해 같으면 True, 다르면 False를 return 하는 solution를 완성하세요. 'p', 'y' 모두 하나도 없는 경우는 항상 True를 리턴합니다. 단, 개수를 비교할 때 대문자와 소문자는 구별하지 않습니다.\n",
    "\n",
    "예를 들어 s가 \"pPoooyY\"면 true를 return하고 \"Pyy\"라면 false를 return합니다.\n",
    "\n",
    "### 제한사항\n",
    "문자열 s의 길이 : 50 이하의 자연수\n",
    "문자열 s는 알파벳으로만 이루어져 있습니다."
   ]
  },
  {
   "cell_type": "code",
   "execution_count": null,
   "id": "6d5628f6",
   "metadata": {},
   "outputs": [],
   "source": [
    "def solution(s):\n",
    "    answer = True\n",
    "    s = s.lower()\n",
    "    p = 0\n",
    "    y = 0\n",
    "    for i in s:\n",
    "        if i == 'p':\n",
    "            p += 1\n",
    "        elif i == 'y':\n",
    "            y += 1\n",
    "    if p != y :\n",
    "        return False\n",
    "    else:\n",
    "        return True        \n",
    "        \n",
    "    \n",
    "    # [실행] 버튼을 누르면 출력 값을 볼 수 있습니다.\n",
    "    print('Hello Python')\n",
    "\n",
    "    return True\n",
    "\n",
    "s = \"pPoooyY\"\n",
    "# answer true\n",
    "s = \"Pyy\"\n",
    "# answer false\n",
    "solution(s)"
   ]
  }
 ],
 "metadata": {
  "kernelspec": {
   "display_name": "CDT",
   "language": "python",
   "name": "python3"
  },
  "language_info": {
   "name": "python",
   "version": "3.10.0"
  }
 },
 "nbformat": 4,
 "nbformat_minor": 5
}
