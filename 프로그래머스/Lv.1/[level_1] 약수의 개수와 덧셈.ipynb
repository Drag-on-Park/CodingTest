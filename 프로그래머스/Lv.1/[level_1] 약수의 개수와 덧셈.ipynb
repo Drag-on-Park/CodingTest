{
 "cells": [
  {
   "cell_type": "markdown",
   "id": "ce8facb3",
   "metadata": {},
   "source": [
    "### 문제 설명\n",
    "두 정수 left와 right가 매개변수로 주어집니다. left부터 right까지의 모든 수들 중에서, 약수의 개수가 짝수인 수는 더하고, 약수의 개수가 홀수인 수는 뺀 수를 return 하도록 solution 함수를 완성해주세요.\n",
    "\n",
    "### 제한사항\n",
    "1 ≤ left ≤ right ≤ 1,000"
   ]
  },
  {
   "cell_type": "code",
   "execution_count": null,
   "id": "f3b84b51",
   "metadata": {},
   "outputs": [
    {
     "ename": "TypeError",
     "evalue": "unsupported operand type(s) for %: 'list' and 'int'",
     "output_type": "error",
     "traceback": [
      "\u001b[0;31m---------------------------------------------------------------------------\u001b[0m",
      "\u001b[0;31mTypeError\u001b[0m                                 Traceback (most recent call last)",
      "Cell \u001b[0;32mIn[3], line 24\u001b[0m\n\u001b[1;32m     21\u001b[0m right \u001b[38;5;241m=\u001b[39m \u001b[38;5;241m27\u001b[39m\n\u001b[1;32m     22\u001b[0m \u001b[38;5;66;03m# result 52\u001b[39;00m\n\u001b[0;32m---> 24\u001b[0m \u001b[43msolution\u001b[49m\u001b[43m(\u001b[49m\u001b[43mleft\u001b[49m\u001b[43m,\u001b[49m\u001b[43m \u001b[49m\u001b[43mright\u001b[49m\u001b[43m)\u001b[49m\n",
      "Cell \u001b[0;32mIn[3], line 10\u001b[0m, in \u001b[0;36msolution\u001b[0;34m(left, right)\u001b[0m\n\u001b[1;32m      8\u001b[0m     \u001b[38;5;28;01mif\u001b[39;00m i \u001b[38;5;241m%\u001b[39m j \u001b[38;5;241m==\u001b[39m \u001b[38;5;241m0\u001b[39m:\n\u001b[1;32m      9\u001b[0m         divisors\u001b[38;5;241m.\u001b[39mappend(j)\n\u001b[0;32m---> 10\u001b[0m \u001b[38;5;28;01mif\u001b[39;00m \u001b[43mdivisors\u001b[49m\u001b[43m \u001b[49m\u001b[38;5;241;43m%\u001b[39;49m\u001b[43m \u001b[49m\u001b[38;5;241;43m2\u001b[39;49m \u001b[38;5;241m==\u001b[39m \u001b[38;5;241m0\u001b[39m:\n\u001b[1;32m     11\u001b[0m     answer \u001b[38;5;241m+\u001b[39m\u001b[38;5;241m=\u001b[39m divisors\n\u001b[1;32m     12\u001b[0m \u001b[38;5;28;01melse\u001b[39;00m:\n",
      "\u001b[0;31mTypeError\u001b[0m: unsupported operand type(s) for %: 'list' and 'int'"
     ]
    }
   ],
   "source": [
    "# 리스트 divisors를 int로 % 했을 때 \n",
    "def solution(left, right):\n",
    "    answer = 0\n",
    "\n",
    "    for i in range(left,right+1):\n",
    "        divisors = []\n",
    "\n",
    "        for j in range(1,i+1):\n",
    "            if i % j == 0:\n",
    "                divisors.append(j)\n",
    "        if divisors % 2 == 0:\n",
    "            answer += divisors\n",
    "        else:\n",
    "            answer -= divisors\n",
    "            \n",
    "    return answer\n",
    "\n",
    "left = 13\n",
    "right = 17\n",
    "# result 43\n",
    "left = 24\n",
    "right = 27\n",
    "# result 52\n",
    "\n",
    "solution(left, right)"
   ]
  },
  {
   "cell_type": "code",
   "execution_count": 4,
   "id": "09519e55",
   "metadata": {},
   "outputs": [
    {
     "data": {
      "text/plain": [
       "52"
      ]
     },
     "execution_count": 4,
     "metadata": {},
     "output_type": "execute_result"
    }
   ],
   "source": [
    "def solution(left, right):\n",
    "    answer = 0\n",
    "\n",
    "    for i in range(left,right+1):\n",
    "        divisors = []\n",
    "        # i의 약수\n",
    "        for j in range(1,i+1):\n",
    "            if i % j == 0:\n",
    "                divisors.append(j)\n",
    "        if len(divisors) % 2 == 0:\n",
    "            answer += i\n",
    "        else:\n",
    "            answer -= i\n",
    "            \n",
    "    return answer\n",
    "\n",
    "left = 13\n",
    "right = 17\n",
    "# result 43\n",
    "left = 24\n",
    "right = 27\n",
    "# result 52\n",
    "\n",
    "solution(left, right)"
   ]
  }
 ],
 "metadata": {
  "kernelspec": {
   "display_name": "CDT",
   "language": "python",
   "name": "python3"
  },
  "language_info": {
   "codemirror_mode": {
    "name": "ipython",
    "version": 3
   },
   "file_extension": ".py",
   "mimetype": "text/x-python",
   "name": "python",
   "nbconvert_exporter": "python",
   "pygments_lexer": "ipython3",
   "version": "3.10.0"
  }
 },
 "nbformat": 4,
 "nbformat_minor": 5
}
