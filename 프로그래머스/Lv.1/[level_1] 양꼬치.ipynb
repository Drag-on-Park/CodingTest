{
 "cells": [
  {
   "attachments": {},
   "cell_type": "markdown",
   "metadata": {},
   "source": [
    "# 양꼬치 \n",
    " 10인분을 먹으면 음료수 하나를 서비스\n",
    " 양꼬치는 1인분에 12,000원, 음료수는 2,000원\n",
    " 정수 n과 k가 매개변수\n",
    " 양꼬치 n인분과 음료수 k개를 먹었다면 총얼마를 지불해야 하는지 return\n",
    "\n",
    " - 0 < n < 1,000\n",
    " - n / 10 ≤ k < 1,000\n",
    " - 서비스로 받은 음료수는 모두 마십니다."
   ]
  },
  {
   "cell_type": "code",
   "execution_count": 4,
   "metadata": {},
   "outputs": [
    {
     "name": "stdout",
     "output_type": "stream",
     "text": [
      "-6\n"
     ]
    },
    {
     "data": {
      "text/plain": [
       "768000"
      ]
     },
     "execution_count": 4,
     "metadata": {},
     "output_type": "execute_result"
    }
   ],
   "source": [
    "def solution(n, k):\n",
    "    answer = 0\n",
    "    if n > 9:\n",
    "        answer = n//10*-1\n",
    "        print(answer)\n",
    "    answer = n * 12000 + (k + answer)* 2000\n",
    "    return answer\n",
    "\n",
    "n = 10\t\n",
    "k = 3\n",
    "#result = 124,000\n",
    "n = 64\t\n",
    "k = 6\n",
    "#result = 768,000\n",
    "solution(n, k)\t"
   ]
  }
 ],
 "metadata": {
  "kernelspec": {
   "display_name": "CDT",
   "language": "python",
   "name": "python3"
  },
  "language_info": {
   "codemirror_mode": {
    "name": "ipython",
    "version": 3
   },
   "file_extension": ".py",
   "mimetype": "text/x-python",
   "name": "python",
   "nbconvert_exporter": "python",
   "pygments_lexer": "ipython3",
   "version": "3.10.0"
  },
  "orig_nbformat": 4
 },
 "nbformat": 4,
 "nbformat_minor": 2
}
