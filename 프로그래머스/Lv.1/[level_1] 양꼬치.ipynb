{
 "cells": [
  {
   "cell_type": "code",
   "execution_count": null,
   "metadata": {},
   "outputs": [],
   "source": [
    "def solution(n, k):\n",
    "    answer = 0\n",
    "    return answer\n",
    "\n",
    "n = 10\t\n",
    "k = 3\n",
    "#result = 124,000\n",
    "n = 64\t\n",
    "k = 6\n",
    "#result = 768,000\n",
    "\t"
   ]
  }
 ],
 "metadata": {
  "language_info": {
   "name": "python"
  },
  "orig_nbformat": 4
 },
 "nbformat": 4,
 "nbformat_minor": 2
}
