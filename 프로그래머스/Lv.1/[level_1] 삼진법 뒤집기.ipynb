{
 "cells": [
  {
   "cell_type": "markdown",
   "id": "196c443f",
   "metadata": {},
   "source": [
    "### 문제 설명\n",
    "자연수 n이 매개변수로 주어집니다. n을 3진법 상에서 앞뒤로 뒤집은 후, 이를 다시 10진법으로 표현한 수를 return 하도록 solution 함수를 완성해주세요.\n",
    "\n",
    "### 제한사항\n",
    "n은 1 이상 100,000,000 이하인 자연수입니다."
   ]
  },
  {
   "cell_type": "code",
   "execution_count": null,
   "id": "64ac5dd1",
   "metadata": {},
   "outputs": [
    {
     "name": "stdout",
     "output_type": "stream",
     "text": [
      "1\n",
      "count:1\n",
      "num: 1 ternary_str: 1\n",
      "num: 0 ternary_str: 11\n",
      "i:1 result: 1\n",
      "i:1 result: 4\n"
     ]
    },
    {
     "data": {
      "text/plain": [
       "4"
      ]
     },
     "execution_count": 7,
     "metadata": {},
     "output_type": "execute_result"
    }
   ],
   "source": [
    "def solution(n):\n",
    "    answer = 0\n",
    "    count = 0\n",
    "    ternary_str = ''\n",
    "    temp = n\n",
    "    \n",
    "    # 삼진법 계산기\n",
    "    def ternary(num,count):\n",
    "        ternary_str = ''\n",
    "        for i in range(count+1):\n",
    "            a,num = divmod(num,3**(count-i))\n",
    "            ternary_str += str(a)\n",
    "            print(f\"num: {num} ternary_str: {ternary_str}\")\n",
    "        return ternary_str\n",
    "    \n",
    "    def decimal(ternary):\n",
    "        result = 0\n",
    "        for idx,i in enumerate(ternary):\n",
    "            i = int(i)\n",
    "            result += i * 3**idx\n",
    "            print(f\"i:{i} result: {result}\")\n",
    "        return result\n",
    "            \n",
    "        \n",
    "        \n",
    "\n",
    "    while n > 1 :\n",
    "        n = n // 3\n",
    "        count += 1\n",
    "        print(n)\n",
    "        print(f\"count:{count}\")\n",
    "    n = temp\n",
    "    \n",
    "    # n = 125\n",
    "    # num: 0 ternary_str: 11122\n",
    "    reverse_tern_str = ternary(n,count)\n",
    "    reverse_tern = reverse_tern_str[::-1]\n",
    "    # 22111\n",
    "    answer = decimal(reverse_tern_str)\n",
    "\n",
    "    return answer\n",
    "n = 45\n",
    "# result 7 \n",
    "n = 125\n",
    "# result 229 \n",
    "n = 4\n",
    "solution(n)\n",
    "\n",
    "# n(10진법)\tn (3진법)\t앞뒤 반전(3진법)\t10진법으로 표현\n",
    "# 45\t    1200\t    0021\t        7\n",
    "\n",
    "# n (10진법)\tn (3진법)\t앞뒤 반전(3진법)\t10진법으로 표현\n",
    "# 125\t        11122\t    22111\t        229"
   ]
  },
  {
   "cell_type": "code",
   "execution_count": 19,
   "id": "fdd26acb",
   "metadata": {},
   "outputs": [
    {
     "name": "stdout",
     "output_type": "stream",
     "text": [
      "33333333\n",
      "17\n"
     ]
    }
   ],
   "source": [
    "# 100,000,000이하\n",
    "goal = 100000000\n",
    "# 3**17\n",
    "print(goal//3)\n",
    "temp = 0\n",
    "count = 0\n",
    "while goal >= 1 :\n",
    "    goal = goal / 3\n",
    "    count += 1\n",
    "print(count)"
   ]
  },
  {
   "cell_type": "code",
   "execution_count": 21,
   "id": "bb6eeaed",
   "metadata": {},
   "outputs": [
    {
     "data": {
      "text/plain": [
       "43046721"
      ]
     },
     "execution_count": 21,
     "metadata": {},
     "output_type": "execute_result"
    }
   ],
   "source": [
    "3**16"
   ]
  },
  {
   "cell_type": "code",
   "execution_count": null,
   "id": "3f2828ef",
   "metadata": {},
   "outputs": [
    {
     "name": "stdout",
     "output_type": "stream",
     "text": [
      "41\n",
      "count:1\n",
      "13\n",
      "count:2\n",
      "4\n",
      "count:3\n",
      "1\n",
      "count:4\n",
      "num: 41 ternary_str: 2\n",
      "num: 13 ternary_str: 22\n",
      "num: 4 ternary_str: 221\n",
      "num: 1 ternary_str: 2211\n",
      "num: 0 ternary_str: 22111\n",
      "11122\n",
      "i:1 result: 1\n",
      "i:1 result: 4\n",
      "i:1 result: 13\n",
      "i:2 result: 67\n",
      "i:2 result: 229\n"
     ]
    },
    {
     "data": {
      "text/plain": [
       "229"
      ]
     },
     "execution_count": 5,
     "metadata": {},
     "output_type": "execute_result"
    }
   ],
   "source": [
    "# 특정 자리수에 정확히 3**k가 배분되지 않아 잘못된 자릿수 표현\n",
    "def solution(n):\n",
    "    answer = 0\n",
    "    count = 0\n",
    "    ternary_str = ''\n",
    "    temp = n\n",
    "    \n",
    "    # 삼진법 계산기\n",
    "    # 수정 \n",
    "    def ternary(num,count):\n",
    "        ternary_str = ''\n",
    "        while num:\n",
    "            num,a = divmod(num,3)\n",
    "            ternary_str += str(a)\n",
    "            print(f\"num: {num} ternary_str: {ternary_str}\")\n",
    "        return ternary_str\n",
    "    \n",
    "    def decimal(ternary):\n",
    "        result = 0\n",
    "        for idx,i in enumerate(ternary):\n",
    "            i = int(i)\n",
    "            result += i * 3**idx\n",
    "            print(f\"i:{i} result: {result}\")\n",
    "        return result\n",
    "            \n",
    "        \n",
    "        \n",
    "\n",
    "    while n > 1 :\n",
    "        n = n // 3\n",
    "        count += 1\n",
    "        print(n)\n",
    "        print(f\"count:{count}\")\n",
    "    n = temp\n",
    "    \n",
    "    # n = 125\n",
    "    # num: 0 ternary_str: 11122\n",
    "    reverse_tern_str = ternary(n,count)\n",
    "    reverse_tern = reverse_tern_str[::-1]\n",
    "    print(reverse_tern)\n",
    "    # 22111\n",
    "    answer = decimal(reverse_tern)\n",
    "\n",
    "    return answer\n",
    "n = 45\n",
    "# result 7 \n",
    "n = 125\n",
    "# result 229 \n",
    "solution(n)\n",
    "\n",
    "# n(10진법)\tn (3진법)\t앞뒤 반전(3진법)\t10진법으로 표현\n",
    "# 45\t    1200\t    0021\t        7\n",
    "\n",
    "# n (10진법)\tn (3진법)\t앞뒤 반전(3진법)\t10진법으로 표현\n",
    "# 125\t        11122\t    22111\t        229"
   ]
  }
 ],
 "metadata": {
  "kernelspec": {
   "display_name": "CDT",
   "language": "python",
   "name": "python3"
  },
  "language_info": {
   "codemirror_mode": {
    "name": "ipython",
    "version": 3
   },
   "file_extension": ".py",
   "mimetype": "text/x-python",
   "name": "python",
   "nbconvert_exporter": "python",
   "pygments_lexer": "ipython3",
   "version": "3.10.0"
  }
 },
 "nbformat": 4,
 "nbformat_minor": 5
}
