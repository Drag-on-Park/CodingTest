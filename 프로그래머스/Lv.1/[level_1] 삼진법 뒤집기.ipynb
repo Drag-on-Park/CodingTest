{
 "cells": [
  {
   "cell_type": "markdown",
   "id": "196c443f",
   "metadata": {},
   "source": [
    "### 문제 설명\n",
    "자연수 n이 매개변수로 주어집니다. n을 3진법 상에서 앞뒤로 뒤집은 후, 이를 다시 10진법으로 표현한 수를 return 하도록 solution 함수를 완성해주세요.\n",
    "\n",
    "### 제한사항\n",
    "n은 1 이상 100,000,000 이하인 자연수입니다."
   ]
  },
  {
   "cell_type": "code",
   "execution_count": null,
   "id": "64ac5dd1",
   "metadata": {},
   "outputs": [
    {
     "name": "stdout",
     "output_type": "stream",
     "text": [
      "41\n",
      "count:1\n",
      "13\n",
      "count:2\n",
      "4\n",
      "count:3\n",
      "1\n",
      "count:4\n",
      "num: 44 ternary_str: 1\n",
      "num: 17 ternary_str: 11\n",
      "num: 8 ternary_str: 111\n",
      "num: 2 ternary_str: 1112\n",
      "num: 0 ternary_str: 11122\n"
     ]
    },
    {
     "ename": "TypeError",
     "evalue": "'int' object is not iterable",
     "output_type": "error",
     "traceback": [
      "\u001b[0;31m---------------------------------------------------------------------------\u001b[0m",
      "\u001b[0;31mTypeError\u001b[0m                                 Traceback (most recent call last)",
      "Cell \u001b[0;32mIn[44], line 64\u001b[0m\n\u001b[1;32m     62\u001b[0m n \u001b[38;5;241m=\u001b[39m \u001b[38;5;241m125\u001b[39m\n\u001b[1;32m     63\u001b[0m \u001b[38;5;66;03m# result 229 \u001b[39;00m\n\u001b[0;32m---> 64\u001b[0m \u001b[43msolution\u001b[49m\u001b[43m(\u001b[49m\u001b[43mn\u001b[49m\u001b[43m)\u001b[49m\n\u001b[1;32m     66\u001b[0m \u001b[38;5;66;03m# n(10진법)\tn (3진법)\t앞뒤 반전(3진법)\t10진법으로 표현\u001b[39;00m\n\u001b[1;32m     67\u001b[0m \u001b[38;5;66;03m# 45\t    1200\t    0021\t        7\u001b[39;00m\n\u001b[1;32m     68\u001b[0m \n\u001b[1;32m     69\u001b[0m \u001b[38;5;66;03m# n (10진법)\tn (3진법)\t앞뒤 반전(3진법)\t10진법으로 표현\u001b[39;00m\n\u001b[1;32m     70\u001b[0m \u001b[38;5;66;03m# 125\t        11122\t    22111\t        229\u001b[39;00m\n",
      "Cell \u001b[0;32mIn[44], line 34\u001b[0m, in \u001b[0;36msolution\u001b[0;34m(n)\u001b[0m\n\u001b[1;32m     32\u001b[0m reverse_tern_int \u001b[38;5;241m=\u001b[39m \u001b[38;5;28mint\u001b[39m(reverse_tern_str[::\u001b[38;5;241m-\u001b[39m\u001b[38;5;241m1\u001b[39m])\n\u001b[1;32m     33\u001b[0m \u001b[38;5;66;03m# 22111\u001b[39;00m\n\u001b[0;32m---> 34\u001b[0m \u001b[43mdecimal\u001b[49m\u001b[43m(\u001b[49m\u001b[43mreverse_tern_str\u001b[49m\u001b[43m)\u001b[49m\n\u001b[1;32m     42\u001b[0m \u001b[38;5;66;03m# for i in range(n):\u001b[39;00m\n\u001b[1;32m     43\u001b[0m \n\u001b[1;32m     44\u001b[0m \u001b[38;5;66;03m# 3\u001b[39;00m\n\u001b[0;32m   (...)\u001b[0m\n\u001b[1;32m     56\u001b[0m \u001b[38;5;66;03m# 5\u001b[39;00m\n\u001b[1;32m     57\u001b[0m \u001b[38;5;66;03m# 3\u001b[39;00m\n\u001b[1;32m     59\u001b[0m \u001b[38;5;28;01mreturn\u001b[39;00m answer\n",
      "Cell \u001b[0;32mIn[44], line 16\u001b[0m, in \u001b[0;36msolution.<locals>.decimal\u001b[0;34m(ternary)\u001b[0m\n\u001b[1;32m     15\u001b[0m \u001b[38;5;28;01mdef\u001b[39;00m\u001b[38;5;250m \u001b[39m\u001b[38;5;21mdecimal\u001b[39m(ternary):\n\u001b[0;32m---> 16\u001b[0m     \u001b[38;5;28;01mfor\u001b[39;00m i \u001b[38;5;129;01min\u001b[39;00m \u001b[38;5;28mlen\u001b[39m(ternary):\n\u001b[1;32m     17\u001b[0m         \u001b[38;5;28mprint\u001b[39m(\u001b[38;5;124mf\u001b[39m\u001b[38;5;124m\"\u001b[39m\u001b[38;5;124mi:\u001b[39m\u001b[38;5;132;01m{\u001b[39;00mi\u001b[38;5;132;01m}\u001b[39;00m\u001b[38;5;124m\"\u001b[39m)\n",
      "\u001b[0;31mTypeError\u001b[0m: 'int' object is not iterable"
     ]
    }
   ],
   "source": [
    "def solution(n):\n",
    "    answer = 0\n",
    "    count = 0\n",
    "    ternary_str = ''\n",
    "    temp = n\n",
    "    \n",
    "    # 삼진법 계산기\n",
    "    def ternary(num,count):\n",
    "        ternary_str = ''\n",
    "        for i in range(count+1):\n",
    "            a,num = divmod(num,3**(count-i))\n",
    "            ternary_str += str(a)\n",
    "            print(f\"num: {num} ternary_str: {ternary_str}\")\n",
    "        return ternary_str\n",
    "    def decimal(ternary):\n",
    "        for i in len(ternary):\n",
    "            print(f\"i:{i}\")\n",
    "            \n",
    "        \n",
    "        \n",
    "\n",
    "    while n > 1 :\n",
    "        n = n // 3\n",
    "        count += 1\n",
    "        print(n)\n",
    "        print(f\"count:{count}\")\n",
    "    n = temp\n",
    "    \n",
    "    # n = 125\n",
    "    # num: 0 ternary_str: 11122\n",
    "    reverse_tern_str = ternary(n,count)\n",
    "    reverse_tern_int = int(reverse_tern_str[::-1])\n",
    "    # 22111\n",
    "    decimal(reverse_tern_str)\n",
    "\n",
    "    return answer\n",
    "n = 45\n",
    "# result 7 \n",
    "n = 125\n",
    "# result 229 \n",
    "solution(n)\n",
    "\n",
    "# n(10진법)\tn (3진법)\t앞뒤 반전(3진법)\t10진법으로 표현\n",
    "# 45\t    1200\t    0021\t        7\n",
    "\n",
    "# n (10진법)\tn (3진법)\t앞뒤 반전(3진법)\t10진법으로 표현\n",
    "# 125\t        11122\t    22111\t        229"
   ]
  },
  {
   "cell_type": "code",
   "execution_count": 19,
   "id": "fdd26acb",
   "metadata": {},
   "outputs": [
    {
     "name": "stdout",
     "output_type": "stream",
     "text": [
      "33333333\n",
      "17\n"
     ]
    }
   ],
   "source": [
    "# 100,000,000이하\n",
    "goal = 100000000\n",
    "# 3**17\n",
    "print(goal//3)\n",
    "temp = 0\n",
    "count = 0\n",
    "while goal >= 1 :\n",
    "    goal = goal / 3\n",
    "    count += 1\n",
    "print(count)"
   ]
  },
  {
   "cell_type": "code",
   "execution_count": 21,
   "id": "bb6eeaed",
   "metadata": {},
   "outputs": [
    {
     "data": {
      "text/plain": [
       "43046721"
      ]
     },
     "execution_count": 21,
     "metadata": {},
     "output_type": "execute_result"
    }
   ],
   "source": [
    "3**16"
   ]
  }
 ],
 "metadata": {
  "kernelspec": {
   "display_name": "CDT",
   "language": "python",
   "name": "python3"
  },
  "language_info": {
   "codemirror_mode": {
    "name": "ipython",
    "version": 3
   },
   "file_extension": ".py",
   "mimetype": "text/x-python",
   "name": "python",
   "nbconvert_exporter": "python",
   "pygments_lexer": "ipython3",
   "version": "3.10.0"
  }
 },
 "nbformat": 4,
 "nbformat_minor": 5
}
