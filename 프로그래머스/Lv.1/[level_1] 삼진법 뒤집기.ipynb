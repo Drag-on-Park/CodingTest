{
 "cells": [
  {
   "cell_type": "markdown",
   "id": "196c443f",
   "metadata": {},
   "source": [
    "### 문제 설명\n",
    "자연수 n이 매개변수로 주어집니다. n을 3진법 상에서 앞뒤로 뒤집은 후, 이를 다시 10진법으로 표현한 수를 return 하도록 solution 함수를 완성해주세요.\n",
    "\n",
    "### 제한사항\n",
    "n은 1 이상 100,000,000 이하인 자연수입니다."
   ]
  },
  {
   "cell_type": "code",
   "execution_count": null,
   "id": "64ac5dd1",
   "metadata": {},
   "outputs": [],
   "source": [
    "def solution(n):\n",
    "    answer = 0\n",
    "    n = x for j in range()\n",
    "    for i in range(n):\n",
    "\n",
    "    3\n",
    "    15\n",
    "    3\n",
    "    5\n",
    "    3\n",
    "\n",
    "\n",
    "    3\n",
    "    45\n",
    "    3\n",
    "    15\n",
    "    3\n",
    "    5\n",
    "    3\n",
    "\n",
    "    return answer\n",
    "n = 45\n",
    "# result 7 \n",
    "n = 125\n",
    "# result 229 \n",
    "solution(n)\n",
    "\n",
    "# n(10진법)\tn (3진법)\t앞뒤 반전(3진법)\t10진법으로 표현\n",
    "# 45\t    1200\t    0021\t        7\n",
    "\n",
    "# n (10진법)\tn (3진법)\t앞뒤 반전(3진법)\t10진법으로 표현\n",
    "# 125\t        11122\t    22111\t        229"
   ]
  },
  {
   "cell_type": "code",
   "execution_count": 13,
   "id": "fdd26acb",
   "metadata": {},
   "outputs": [
    {
     "name": "stdout",
     "output_type": "stream",
     "text": [
      "33333333\n",
      "0\n"
     ]
    }
   ],
   "source": [
    "# 100,000,000이하\n",
    "goal = 100000000\n",
    "# 3**17\n",
    "print(goal//3)\n",
    "temp = 0\n",
    "count = 0\n",
    "while temp < 0 :\n",
    "    temp = goal // 3\n",
    "    count += 1\n",
    "print(count)"
   ]
  }
 ],
 "metadata": {
  "kernelspec": {
   "display_name": "CDT",
   "language": "python",
   "name": "python3"
  },
  "language_info": {
   "codemirror_mode": {
    "name": "ipython",
    "version": 3
   },
   "file_extension": ".py",
   "mimetype": "text/x-python",
   "name": "python",
   "nbconvert_exporter": "python",
   "pygments_lexer": "ipython3",
   "version": "3.10.0"
  }
 },
 "nbformat": 4,
 "nbformat_minor": 5
}
