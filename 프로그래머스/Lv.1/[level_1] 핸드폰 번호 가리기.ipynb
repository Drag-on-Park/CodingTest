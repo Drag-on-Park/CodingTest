{
 "cells": [
  {
   "attachments": {},
   "cell_type": "markdown",
   "metadata": {},
   "source": [
    "### 문제 설명\n",
    "프로그래머스 모바일은 개인정보 보호를 위해 고지서를 보낼 때 고객들의 전화번호의 일부를 가립니다.\n",
    "전화번호가 문자열 phone_number로 주어졌을 때, 전화번호의 뒷 4자리를 제외한 나머지 숫자를 전부 *으로 가린 문자열을 리턴하는 함수, solution을 완성해주세요.\n",
    "\n",
    "### 제한 조건\n",
    "phone_number는 길이 4 이상, 20이하인 문자열입니다."
   ]
  },
  {
   "cell_type": "code",
   "execution_count": 7,
   "metadata": {},
   "outputs": [
    {
     "name": "stdout",
     "output_type": "stream",
     "text": [
      "444433\n"
     ]
    },
    {
     "data": {
      "text/plain": [
       "'*******444433'"
      ]
     },
     "execution_count": 7,
     "metadata": {},
     "output_type": "execute_result"
    }
   ],
   "source": [
    "def solution(phone_number):\n",
    "    answer = ''\n",
    "    len_p = len(phone_number)\n",
    "    answer += '*'*(len_p-4)\n",
    "    answer += phone_number[:4:-1]\n",
    "    print(phone_number[:4:-1])\n",
    "    \n",
    "    return answer\n",
    "\n",
    "phone_number = \"01033334444\"\n",
    "# return \"*******4444\"\n",
    "# phone_number = \"027778888\"\n",
    "# return \"*****8888\"\n",
    "\t\n",
    "solution(phone_number)"
   ]
  },
  {
   "cell_type": "code",
   "execution_count": 8,
   "metadata": {},
   "outputs": [
    {
     "name": "stdout",
     "output_type": "stream",
     "text": [
      "444433\n"
     ]
    },
    {
     "data": {
      "text/plain": [
       "'*******4444'"
      ]
     },
     "execution_count": 8,
     "metadata": {},
     "output_type": "execute_result"
    }
   ],
   "source": [
    "def solution(phone_number):\n",
    "    answer = ''\n",
    "    len_p = len(phone_number)\n",
    "    answer += '*'*(len_p-4)\n",
    "    answer += phone_number[-4:]\n",
    "    print(phone_number[:4:-1])\n",
    "    \n",
    "    return answer\n",
    "\n",
    "phone_number = \"01033334444\"\n",
    "# return \"*******4444\"\n",
    "# phone_number = \"027778888\"\n",
    "# return \"*****8888\"\n",
    "\t\n",
    "solution(phone_number)"
   ]
  }
 ],
 "metadata": {
  "kernelspec": {
   "display_name": "CDT",
   "language": "python",
   "name": "python3"
  },
  "language_info": {
   "codemirror_mode": {
    "name": "ipython",
    "version": 3
   },
   "file_extension": ".py",
   "mimetype": "text/x-python",
   "name": "python",
   "nbconvert_exporter": "python",
   "pygments_lexer": "ipython3",
   "version": "3.10.0"
  },
  "orig_nbformat": 4
 },
 "nbformat": 4,
 "nbformat_minor": 2
}
