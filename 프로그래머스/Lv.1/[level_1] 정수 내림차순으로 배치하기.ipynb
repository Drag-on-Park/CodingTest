{
 "cells": [
  {
   "attachments": {},
   "cell_type": "markdown",
   "metadata": {},
   "source": [
    "### 문제 설명\n",
    "함수 solution은 정수 n을 매개변수로 입력받습니다. n의 각 자릿수를 큰것부터 작은 순으로 정렬한 새로운 정수를 리턴해주세요. 예를들어 n이 118372면 873211을 리턴하면 됩니다.\n",
    "\n",
    "### 제한 조건\n",
    "n은 1이상 8000000000 이하인 자연수입니다."
   ]
  },
  {
   "cell_type": "code",
   "execution_count": 8,
   "metadata": {},
   "outputs": [
    {
     "name": "stdout",
     "output_type": "stream",
     "text": [
      "['1']\n",
      "['1', '1']\n",
      "['1', '1', '8']\n",
      "['1', '1', '8', '3']\n",
      "['1', '1', '8', '3', '7']\n",
      "['1', '1', '8', '3', '7', '2']\n",
      "['1', '1', '2', '3', '7', '8']\n",
      "8\n",
      "7\n",
      "3\n",
      "2\n",
      "1\n",
      "1\n",
      "873211\n"
     ]
    },
    {
     "data": {
      "text/plain": [
       "873211"
      ]
     },
     "execution_count": 8,
     "metadata": {},
     "output_type": "execute_result"
    }
   ],
   "source": [
    "def solution(n):\n",
    "    answer = 0\n",
    "    str_n = str(n)\n",
    "    temp = []\n",
    "    temp_str = \"\"\n",
    "    for i in str_n:\n",
    "        temp.append(i)\n",
    "        print(temp)\n",
    "    temp.sort()    \n",
    "    print(temp)\n",
    "    for i in temp[::-1]:\n",
    "        print(i)\n",
    "        temp_str+=i\n",
    "    print(temp_str)\n",
    "    return int(temp_str)\n",
    "\n",
    "n = 118372\n",
    "# return 873211\n",
    "solution(n)"
   ]
  }
 ],
 "metadata": {
  "kernelspec": {
   "display_name": "CDT",
   "language": "python",
   "name": "python3"
  },
  "language_info": {
   "codemirror_mode": {
    "name": "ipython",
    "version": 3
   },
   "file_extension": ".py",
   "mimetype": "text/x-python",
   "name": "python",
   "nbconvert_exporter": "python",
   "pygments_lexer": "ipython3",
   "version": "3.10.0"
  },
  "orig_nbformat": 4
 },
 "nbformat": 4,
 "nbformat_minor": 2
}
