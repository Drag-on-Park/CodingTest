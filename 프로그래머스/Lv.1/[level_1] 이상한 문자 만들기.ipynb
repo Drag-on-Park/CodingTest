{
 "cells": [
  {
   "attachments": {},
   "cell_type": "markdown",
   "metadata": {},
   "source": [
    "### 문제 설명\n",
    "문자열 s는 한 개 이상의 단어로 구성되어 있습니다. 각 단어는 하나 이상의 공백문자로 구분되어 있습니다. 각 단어의 짝수번째 알파벳은 대문자로, 홀수번째 알파벳은 소문자로 바꾼 문자열을 리턴하는 함수, solution을 완성하세요.\n",
    "\n",
    "### 제한 사항\n",
    "문자열 전체의 짝/홀수 인덱스가 아니라, 단어(공백을 기준)별로 짝/홀수 인덱스를 판단해야합니다.\n",
    "첫 번째 글자는 0번째 인덱스로 보아 짝수번째 알파벳으로 처리해야 합니다."
   ]
  },
  {
   "cell_type": "code",
   "execution_count": 3,
   "metadata": {},
   "outputs": [
    {
     "name": "stdout",
     "output_type": "stream",
     "text": [
      "temp:['try', 'hello', 'world'] i: try\n",
      "temp:['try', 'hello', 'world'] i: hello\n",
      "temp:['try', 'hello', 'world'] i: world\n"
     ]
    },
    {
     "data": {
      "text/plain": [
       "'TrY HeLlO WoRlD '"
      ]
     },
     "execution_count": 3,
     "metadata": {},
     "output_type": "execute_result"
    }
   ],
   "source": [
    "# 공백이 여러개일 때 공백을 그대로 가져가야함\n",
    "def solution(s):\n",
    "    answer = ''\n",
    "    temp = s.split(\" \")\n",
    "    for i in temp:\n",
    "        print(f\"temp:{temp} i: {i}\")\n",
    "        for j in range(len(i)):\n",
    "            if j % 2 == 0:\n",
    "                answer += i[j].upper()\n",
    "            else:\n",
    "                answer += i[j].lower()\n",
    "        answer += \" \"\n",
    "\n",
    "    return answer.rstrip()\n",
    "\n",
    "s = \"try hello world\"\n",
    "# return \"TrY HeLlO WoRlD\"\n",
    "solution(s)"
   ]
  },
  {
   "cell_type": "code",
   "execution_count": 4,
   "metadata": {},
   "outputs": [
    {
     "name": "stdout",
     "output_type": "stream",
     "text": [
      "temp:['try', 'hello', 'world'] i: try\n",
      "temp:['try', 'hello', 'world'] i: hello\n",
      "temp:['try', 'hello', 'world'] i: world\n"
     ]
    },
    {
     "data": {
      "text/plain": [
       "'TrY HeLlO WoRlD'"
      ]
     },
     "execution_count": 4,
     "metadata": {},
     "output_type": "execute_result"
    }
   ],
   "source": [
    "def solution(s):\n",
    "    answer = []\n",
    "    temp = s.split(\" \")\n",
    "    for i in temp:\n",
    "        word = ''\n",
    "        print(f\"temp:{temp} i: {i}\")\n",
    "        for idx, j in enumerate(i):\n",
    "            word += j.upper() if idx % 2 == 0 else j.lower()\n",
    "        answer.append(word)\n",
    "\n",
    "    return \" \".join(answer)\n",
    "\n",
    "s = \"try hello world\"\n",
    "# return \"TrY HeLlO WoRlD\"\n",
    "solution(s)"
   ]
  }
 ],
 "metadata": {
  "kernelspec": {
   "display_name": "CDT",
   "language": "python",
   "name": "python3"
  },
  "language_info": {
   "codemirror_mode": {
    "name": "ipython",
    "version": 3
   },
   "file_extension": ".py",
   "mimetype": "text/x-python",
   "name": "python",
   "nbconvert_exporter": "python",
   "pygments_lexer": "ipython3",
   "version": "3.10.0"
  },
  "orig_nbformat": 4
 },
 "nbformat": 4,
 "nbformat_minor": 2
}
