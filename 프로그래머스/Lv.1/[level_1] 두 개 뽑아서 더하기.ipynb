{
 "cells": [
  {
   "attachments": {},
   "cell_type": "markdown",
   "metadata": {},
   "source": [
    "### 문제 설명\n",
    "정수 배열 numbers가 주어집니다. numbers에서 서로 다른 인덱스에 있는 두 개의 수를 뽑아 더해서 만들 수 있는 모든 수를 배열에 오름차순으로 담아 return 하도록 solution 함수를 완성해주세요.\n",
    "\n",
    "### 제한사항\n",
    "numbers의 길이는 2 이상 100 이하입니다.\n",
    "numbers의 모든 수는 0 이상 100 이하입니다."
   ]
  },
  {
   "cell_type": "code",
   "execution_count": 6,
   "metadata": {},
   "outputs": [
    {
     "name": "stdout",
     "output_type": "stream",
     "text": [
      "i:5\n",
      "{5}\n",
      "{5, 7}\n",
      "{12, 5, 7}\n",
      "i:0\n",
      "{2, 12, 5, 7}\n",
      "{2, 12, 5, 7}\n",
      "i:2\n",
      "{2, 5, 7, 9, 12}\n",
      "i:7\n"
     ]
    },
    {
     "data": {
      "text/plain": [
       "[2, 5, 7, 9, 12]"
      ]
     },
     "execution_count": 6,
     "metadata": {},
     "output_type": "execute_result"
    }
   ],
   "source": [
    "def solution(numbers):\n",
    "    answer = []\n",
    "    temp = set()\n",
    "    num_c = numbers.copy()\n",
    "    for idx,i in enumerate(numbers):\n",
    "        print(f\"i:{i}\")\n",
    "        for j in num_c[idx+1:]:\n",
    "            temp.add(i+j)\n",
    "    answer = list(temp)\n",
    "    answer.sort()\n",
    "\n",
    "        \n",
    "    return answer\n",
    "\n",
    "numbers = [2,1,3,4,1]\t\n",
    "# result [2,3,4,5,6,7]\n",
    "numbers = [5,0,2,7]\t\n",
    "# result [2,5,7,9,12]\n",
    "\n",
    "solution(numbers)"
   ]
  },
  {
   "cell_type": "code",
   "execution_count": null,
   "metadata": {},
   "outputs": [],
   "source": []
  }
 ],
 "metadata": {
  "kernelspec": {
   "display_name": "CDT",
   "language": "python",
   "name": "python3"
  },
  "language_info": {
   "codemirror_mode": {
    "name": "ipython",
    "version": 3
   },
   "file_extension": ".py",
   "mimetype": "text/x-python",
   "name": "python",
   "nbconvert_exporter": "python",
   "pygments_lexer": "ipython3",
   "version": "3.10.0"
  },
  "orig_nbformat": 4
 },
 "nbformat": 4,
 "nbformat_minor": 2
}
