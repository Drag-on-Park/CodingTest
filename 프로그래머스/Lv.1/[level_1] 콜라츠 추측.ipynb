{
 "cells": [
  {
   "attachments": {},
   "cell_type": "markdown",
   "metadata": {},
   "source": [
    "### 문제 설명\n",
    "1937년 Collatz란 사람에 의해 제기된 이 추측은, 주어진 수가 1이 될 때까지 다음 작업을 반복하면, 모든 수를 1로 만들 수 있다는 추측입니다. 작업은 다음과 같습니다.\n",
    "\n",
    "1-1. 입력된 수가 짝수라면 2로 나눕니다. \n",
    "1-2. 입력된 수가 홀수라면 3을 곱하고 1을 더합니다. \n",
    "2. 결과로 나온 수에 같은 작업을 1이 될 때까지 반복합니다. \n",
    "예를 들어, 주어진 수가 6이라면 6 → 3 → 10 → 5 → 16 → 8 → 4 → 2 → 1 이 되어 총 8번 만에 1이 됩니다. 위 작업을 몇 번이나 반복해야 하는지 반환하는 함수, solution을 완성해 주세요. 단, 주어진 수가 1인 경우에는 0을, 작업을 500번 반복할 때까지 1이 되지 않는다면 –1을 반환해 주세요.\n",
    "\n",
    "### 제한 사항\n",
    "입력된 수, num은 1 이상 8,000,000 미만인 정수입니다."
   ]
  },
  {
   "cell_type": "code",
   "execution_count": 8,
   "metadata": {},
   "outputs": [
    {
     "data": {
      "text/plain": [
       "0"
      ]
     },
     "execution_count": 8,
     "metadata": {},
     "output_type": "execute_result"
    }
   ],
   "source": [
    "def solution(num):\n",
    "    answer = -1\n",
    "    count = 0\n",
    "    i = 0\n",
    "    if num == 1:\n",
    "        return answer+1\n",
    "    while num != 1:\n",
    "        i += 1\n",
    "        if i > 500:\n",
    "            return answer\n",
    "\n",
    "        if num % 2 == 0:\n",
    "            num = int(num/2)\n",
    "            count += 1\n",
    "        else:\n",
    "            num = num*3+1\n",
    "            count += 1\n",
    "    if count != 0:\n",
    "        answer = count\n",
    "    print(answer)\n",
    "\n",
    "    return answer\n",
    "\n",
    "n = 6\t\n",
    "# result 8\n",
    "n = 16\t\n",
    "# result 4\n",
    "# n = 626331\t\n",
    "# result -1\n",
    "n = int(input())\n",
    "solution(n)"
   ]
  }
 ],
 "metadata": {
  "kernelspec": {
   "display_name": "CDT",
   "language": "python",
   "name": "python3"
  },
  "language_info": {
   "codemirror_mode": {
    "name": "ipython",
    "version": 3
   },
   "file_extension": ".py",
   "mimetype": "text/x-python",
   "name": "python",
   "nbconvert_exporter": "python",
   "pygments_lexer": "ipython3",
   "version": "3.10.0"
  },
  "orig_nbformat": 4
 },
 "nbformat": 4,
 "nbformat_minor": 2
}
