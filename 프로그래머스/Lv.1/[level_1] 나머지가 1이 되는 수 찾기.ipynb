{
 "cells": [
  {
   "cell_type": "markdown",
   "id": "46dbab24",
   "metadata": {},
   "source": [
    "### 문제 설명\n",
    "자연수 n이 매개변수로 주어집니다. n을 x로 나눈 나머지가 1이 되도록 하는 가장 작은 자연수 x를 return 하도록 solution 함수를 완성해주세요. 답이 항상 존재함은 증명될 수 있습니다.\n",
    "\n",
    "### 제한사항\n",
    "3 ≤ n ≤ 1,000,000"
   ]
  },
  {
   "cell_type": "code",
   "execution_count": 6,
   "id": "582aa532",
   "metadata": {},
   "outputs": [
    {
     "data": {
      "text/plain": [
       "11"
      ]
     },
     "execution_count": 6,
     "metadata": {},
     "output_type": "execute_result"
    }
   ],
   "source": [
    "def solution(n):\n",
    "    answer = 0\n",
    "    s = []\n",
    "    for i in range(1,n+1):\n",
    "        if n % i == 1:\n",
    "            s.append(i)\n",
    "    answer = min(s)\n",
    "\n",
    "    return answer\n",
    "\n",
    "n = 10\t\n",
    "# result 3\n",
    "n = 12\n",
    "# result 11\n",
    "\n",
    "solution(n)"
   ]
  }
 ],
 "metadata": {
  "kernelspec": {
   "display_name": "CDT",
   "language": "python",
   "name": "python3"
  },
  "language_info": {
   "codemirror_mode": {
    "name": "ipython",
    "version": 3
   },
   "file_extension": ".py",
   "mimetype": "text/x-python",
   "name": "python",
   "nbconvert_exporter": "python",
   "pygments_lexer": "ipython3",
   "version": "3.10.0"
  }
 },
 "nbformat": 4,
 "nbformat_minor": 5
}
