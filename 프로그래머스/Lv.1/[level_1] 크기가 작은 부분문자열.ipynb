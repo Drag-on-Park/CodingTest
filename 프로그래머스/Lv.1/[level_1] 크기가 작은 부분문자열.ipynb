{
 "cells": [
  {
   "attachments": {},
   "cell_type": "markdown",
   "metadata": {},
   "source": [
    "### 문제 설명\n",
    "숫자로 이루어진 문자열 t와 p가 주어질 때, t에서 p와 길이가 같은 부분문자열 중에서, 이 부분문자열이 나타내는 수가 p가 나타내는 수보다 작거나 같은 것이 나오는 횟수를 return하는 함수 solution을 완성하세요.\n",
    "\n",
    "예를 들어, t=\"3141592\"이고 p=\"271\" 인 경우, t의 길이가 3인 부분 문자열은 314, 141, 415, 159, 592입니다. 이 문자열이 나타내는 수 중 271보다 작거나 같은 수는 141, 159 2개 입니다.\n",
    "\n",
    "### 제한사항\n",
    "1 ≤ p의 길이 ≤ 18\n",
    "p의 길이 ≤ t의 길이 ≤ 10,000\n",
    "t와 p는 숫자로만 이루어진 문자열이며, 0으로 시작하지 않습니다."
   ]
  },
  {
   "cell_type": "code",
   "execution_count": 19,
   "metadata": {},
   "outputs": [
    {
     "name": "stdout",
     "output_type": "stream",
     "text": [
      "three_str:314 p: 271\n",
      "three_str:141 p: 271\n",
      "three_str:415 p: 271\n",
      "three_str:159 p: 271\n",
      "three_str:592 p: 271\n"
     ]
    },
    {
     "data": {
      "text/plain": [
       "2"
      ]
     },
     "execution_count": 19,
     "metadata": {},
     "output_type": "execute_result"
    }
   ],
   "source": [
    "def solution(t, p):\n",
    "    answer = 0\n",
    "    t_copy = t[:]\n",
    "    for i in range(len(t)):\n",
    "        if i+len(p) > len(t):\n",
    "            break\n",
    "        three_str = t_copy[i:len(p)+i]\n",
    "        print(f\"three_str:{three_str} p: {p}\") \n",
    "        if int(three_str) <= int(p):\n",
    "            answer += 1\n",
    "        \n",
    "    return answer\n",
    "\n",
    "t = \"3141592\"\n",
    "p = \"271\"\t\n",
    "# result 2\n",
    "# t = \"500220839878\"\t\n",
    "# p = \"7\"\t\n",
    "# result 8\n",
    "# t = \"10203\"\t\n",
    "# p = \"15\"\n",
    "# result 3\n",
    "\n",
    "solution(t, p)"
   ]
  },
  {
   "cell_type": "code",
   "execution_count": null,
   "metadata": {},
   "outputs": [],
   "source": [
    "def solution(t, p):\n",
    "    answer = 0\n",
    "    t_copy = t[:]\n",
    "    for i in range(len(t)):\n",
    "        if i+len(p) > len(t):\n",
    "            break\n",
    "        three_str = t_copy[i:len(p)+i]\n",
    "        if int(three_str) <= int(p):\n",
    "            answer += 1\n",
    "        \n",
    "    return answer"
   ]
  }
 ],
 "metadata": {
  "kernelspec": {
   "display_name": "CDT",
   "language": "python",
   "name": "python3"
  },
  "language_info": {
   "codemirror_mode": {
    "name": "ipython",
    "version": 3
   },
   "file_extension": ".py",
   "mimetype": "text/x-python",
   "name": "python",
   "nbconvert_exporter": "python",
   "pygments_lexer": "ipython3",
   "version": "3.10.0"
  },
  "orig_nbformat": 4
 },
 "nbformat": 4,
 "nbformat_minor": 2
}
