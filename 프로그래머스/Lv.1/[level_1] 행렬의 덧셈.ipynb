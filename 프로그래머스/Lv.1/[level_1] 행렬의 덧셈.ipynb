{
 "cells": [
  {
   "cell_type": "markdown",
   "id": "73c0ca1d",
   "metadata": {},
   "source": [
    "### 문제 설명\n",
    "행렬의 덧셈은 행과 열의 크기가 같은 두 행렬의 같은 행, 같은 열의 값을 서로 더한 결과가 됩니다. 2개의 행렬 arr1과 arr2를 입력받아, 행렬 덧셈의 결과를 반환하는 함수, solution을 완성해주세요.\n",
    "\n",
    "### 제한 조건\n",
    "행렬 arr1, arr2의 행과 열의 길이는 500을 넘지 않습니다."
   ]
  },
  {
   "cell_type": "code",
   "execution_count": null,
   "id": "e9527859",
   "metadata": {},
   "outputs": [
    {
     "name": "stdout",
     "output_type": "stream",
     "text": [
      "i: [1, 2]\n",
      "j 1\n",
      "[4]\n",
      "answer: []\n",
      "j 2\n",
      "[4, 6]\n",
      "answer: []\n",
      "i: [2, 3]\n",
      "j 2\n",
      "[7]\n",
      "answer: [[4, 6]]\n",
      "j 3\n",
      "[7, 9]\n",
      "answer: [[4, 6]]\n"
     ]
    },
    {
     "data": {
      "text/plain": [
       "[[4, 6], [7, 9]]"
      ]
     },
     "execution_count": 19,
     "metadata": {},
     "output_type": "execute_result"
    }
   ],
   "source": [
    "def solution(arr1, arr2):\n",
    "    answer = []\n",
    "    temp = []\n",
    "\n",
    "    for idx_i, i in enumerate(arr1):\n",
    "        temp = []\n",
    "        for idx_j, j in enumerate(i):\n",
    "            temp.append(arr1[idx_i][idx_j] + arr2[idx_i][idx_j])\n",
    "        answer.append(temp)\n",
    "    \n",
    "        \n",
    "    return answer\n",
    "\n",
    "arr1 = [[1,2],[2,3]]\t\n",
    "arr2 = [[3,4],[5,6]]\t\n",
    "# return [[4,6],[7,9]]\n",
    "# arr1 = [[1],[2]]\n",
    "# arr2 = [[3],[4]]\n",
    "# return [[4],[6]]\n",
    "solution(arr1, arr2)"
   ]
  },
  {
   "cell_type": "code",
   "execution_count": null,
   "id": "d3f3c9b0",
   "metadata": {},
   "outputs": [],
   "source": [
    "for idx,i in arr1:\n",
    "    for j in i:\n",
    "        temp = "
   ]
  }
 ],
 "metadata": {
  "kernelspec": {
   "display_name": "CDT",
   "language": "python",
   "name": "python3"
  },
  "language_info": {
   "codemirror_mode": {
    "name": "ipython",
    "version": 3
   },
   "file_extension": ".py",
   "mimetype": "text/x-python",
   "name": "python",
   "nbconvert_exporter": "python",
   "pygments_lexer": "ipython3",
   "version": "3.10.0"
  }
 },
 "nbformat": 4,
 "nbformat_minor": 5
}
