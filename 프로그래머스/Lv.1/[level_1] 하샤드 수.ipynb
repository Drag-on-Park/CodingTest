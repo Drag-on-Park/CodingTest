{
 "cells": [
  {
   "attachments": {},
   "cell_type": "markdown",
   "metadata": {},
   "source": [
    "### 문제 설명\n",
    "양의 정수 x가 하샤드 수이려면 x의 자릿수의 합으로 x가 나누어져야 합니다. 예를 들어 18의 자릿수 합은 1+8=9이고, 18은 9로 나누어 떨어지므로 18은 하샤드 수입니다. 자연수 x를 입력받아 x가 하샤드 수인지 아닌지 검사하는 함수, solution을 완성해주세요.\n",
    "\n",
    "### 제한 조건\n",
    "x는 1 이상, 10000 이하인 정수입니다."
   ]
  },
  {
   "cell_type": "code",
   "execution_count": 36,
   "metadata": {},
   "outputs": [
    {
     "name": "stdout",
     "output_type": "stream",
     "text": [
      "i\n",
      "1\n"
     ]
    },
    {
     "data": {
      "text/plain": [
       "True"
      ]
     },
     "execution_count": 36,
     "metadata": {},
     "output_type": "execute_result"
    }
   ],
   "source": [
    "# 17번 런타임에러 반례: 한자리수\n",
    "def solution(x):\n",
    "    answer = False\n",
    "    print(\"i\")\n",
    "    sum_dgt = 0\n",
    "    dgt = len(str(x))\n",
    "    print(dgt)\n",
    "    p = x\n",
    "    if dgt == 1:\n",
    "        sum_dgt = x\n",
    "    for i in range(dgt-1,0,-1):\n",
    "        print(10**i)\n",
    "        t = 10**i\n",
    "        sum_dgt += int(x / t)\n",
    "        print(f\"t: {t} sum_dgt: {sum_dgt}\")\n",
    "        x = int(x % t)\n",
    "        if i == 1:\n",
    "            sum_dgt += x % t\n",
    "        print(sum_dgt)\n",
    "    if p % sum_dgt == 0:\n",
    "        answer = True\n",
    "        \n",
    "    return answer\n",
    "\n",
    "x = 10\n",
    "# return true\n",
    "x = 12\n",
    "# return true\n",
    "# x = 11\n",
    "# return false\n",
    "# x = 13\n",
    "# return false\n",
    "# x = 113\n",
    "# return false\n",
    "# x = 1113\n",
    "# return false\n",
    "# x = 10000\n",
    "# return true\n",
    "x = 5\n",
    "# return true\n",
    "solution(x)"
   ]
  },
  {
   "cell_type": "code",
   "execution_count": 19,
   "metadata": {},
   "outputs": [
    {
     "name": "stdout",
     "output_type": "stream",
     "text": [
      "2\n",
      "1\n"
     ]
    }
   ],
   "source": [
    "# 113\n",
    "for i in range(2,0,-1):\n",
    "    print(i)\n"
   ]
  }
 ],
 "metadata": {
  "kernelspec": {
   "display_name": "CDT",
   "language": "python",
   "name": "python3"
  },
  "language_info": {
   "codemirror_mode": {
    "name": "ipython",
    "version": 3
   },
   "file_extension": ".py",
   "mimetype": "text/x-python",
   "name": "python",
   "nbconvert_exporter": "python",
   "pygments_lexer": "ipython3",
   "version": "3.10.0"
  },
  "orig_nbformat": 4
 },
 "nbformat": 4,
 "nbformat_minor": 2
}
