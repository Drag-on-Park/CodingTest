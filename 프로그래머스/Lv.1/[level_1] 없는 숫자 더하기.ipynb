{
 "cells": [
  {
   "cell_type": "markdown",
   "id": "809cd255",
   "metadata": {},
   "source": [
    "### 문제 설명\n",
    "0부터 9까지의 숫자 중 일부가 들어있는 정수 배열 numbers가 매개변수로 주어집니다. numbers에서 찾을 수 없는 0부터 9까지의 숫자를 모두 찾아 더한 수를 return 하도록 solution 함수를 완성해주세요.\n",
    "\n",
    "### 제한사항\n",
    "1 ≤ numbers의 길이 ≤ 9\n",
    "0 ≤ numbers의 모든 원소 ≤ 9\n",
    "numbers의 모든 원소는 서로 다릅니다."
   ]
  },
  {
   "cell_type": "code",
   "execution_count": 2,
   "id": "83c7e453",
   "metadata": {},
   "outputs": [
    {
     "data": {
      "text/plain": [
       "6"
      ]
     },
     "execution_count": 2,
     "metadata": {},
     "output_type": "execute_result"
    }
   ],
   "source": [
    "def solution(numbers):\n",
    "    answer = 0\n",
    "    for i in range(10):\n",
    "        if i not in numbers:\n",
    "            answer += i\n",
    "    \n",
    "    return answer\n",
    "\n",
    "numbers\t= [1,2,3,4,6,7,8,0]\t\n",
    "# result 14\n",
    "numbers\t= [5,8,4,0,6,7,9]\t\n",
    "# result 6\n",
    "\n",
    "solution(numbers)\n"
   ]
  }
 ],
 "metadata": {
  "kernelspec": {
   "display_name": "CDT",
   "language": "python",
   "name": "python3"
  },
  "language_info": {
   "codemirror_mode": {
    "name": "ipython",
    "version": 3
   },
   "file_extension": ".py",
   "mimetype": "text/x-python",
   "name": "python",
   "nbconvert_exporter": "python",
   "pygments_lexer": "ipython3",
   "version": "3.10.0"
  }
 },
 "nbformat": 4,
 "nbformat_minor": 5
}
