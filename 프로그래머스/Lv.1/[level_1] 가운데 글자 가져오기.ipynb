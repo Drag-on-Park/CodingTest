{
 "cells": [
  {
   "cell_type": "markdown",
   "id": "c8dc1cb0",
   "metadata": {},
   "source": [
    "### 문제 설명\n",
    "단어 s의 가운데 글자를 반환하는 함수, solution을 만들어 보세요. 단어의 길이가 짝수라면 가운데 두글자를 반환하면 됩니다.\n",
    "\n",
    "### 재한사항\n",
    "s는 길이가 1 이상, 100이하인 스트링입니다."
   ]
  },
  {
   "cell_type": "code",
   "execution_count": 11,
   "id": "9a2240ae",
   "metadata": {},
   "outputs": [
    {
     "data": {
      "text/plain": [
       "'we'"
      ]
     },
     "execution_count": 11,
     "metadata": {},
     "output_type": "execute_result"
    }
   ],
   "source": [
    "def solution(s):\n",
    "    answer = ''\n",
    "    half = int(len(s)/2)\n",
    "    if len(s)%2==0:\n",
    "        answer = s[half-1:half+1]\n",
    "        \n",
    "    else:\n",
    "        answer = s[half:half+1]\n",
    "    return answer\n",
    "\n",
    "s = \"abcde\"\t\n",
    "# return \"c\"\n",
    "s = \"qwer\"\n",
    "# return \"we\"\n",
    "solution(s)"
   ]
  }
 ],
 "metadata": {
  "kernelspec": {
   "display_name": "CDT",
   "language": "python",
   "name": "python3"
  },
  "language_info": {
   "codemirror_mode": {
    "name": "ipython",
    "version": 3
   },
   "file_extension": ".py",
   "mimetype": "text/x-python",
   "name": "python",
   "nbconvert_exporter": "python",
   "pygments_lexer": "ipython3",
   "version": "3.10.0"
  }
 },
 "nbformat": 4,
 "nbformat_minor": 5
}
