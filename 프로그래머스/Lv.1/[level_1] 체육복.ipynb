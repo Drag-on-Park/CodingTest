{
 "cells": [
  {
   "cell_type": "code",
   "execution_count": 1,
   "metadata": {},
   "outputs": [],
   "source": [
    "# 제출12,13,14,17,18,21,22,23,25 통과 30점\n",
    "def solution(n, lost, reserve):\n",
    "    neighbor = []\n",
    "    answer = n-len(lost)\n",
    "    for i in lost:\n",
    "        neighbor.append([i-1,i+1])\n",
    "        for j in neighbor[0]:\n",
    "            if j in reserve:\n",
    "                reserve.remove(j)\n",
    "                answer += 1\n",
    "                break\n",
    "    return answer"
   ]
  },
  {
   "cell_type": "code",
   "execution_count": 2,
   "metadata": {},
   "outputs": [
    {
     "name": "stdout",
     "output_type": "stream",
     "text": [
      "[1, 3]\n",
      "j: 1 True\n",
      "[3, 5]\n",
      "j: 3 True\n"
     ]
    },
    {
     "data": {
      "text/plain": [
       "5"
      ]
     },
     "execution_count": 2,
     "metadata": {},
     "output_type": "execute_result"
    }
   ],
   "source": [
    "def solution(n, lost, reserve):\n",
    "    # 잃어버린 학생에게 빌려줄 수 있는 학생\n",
    "    # +1 -1\n",
    "    neighbor = []\n",
    "    answer = n-len(lost)\n",
    "    for i in lost:\n",
    "      neighbor.append([i-1,i+1])\n",
    "      print(neighbor[0])\n",
    "      for j in neighbor[0]:\n",
    "        if j in reserve:\n",
    "          print(f\"j: {j} {j in reserve}\")\n",
    "          reserve.remove(j)\n",
    "          neighbor = []\n",
    "          answer += 1\n",
    "          break\n",
    "    # reserve 중 하나가 lost에 들어있다면 빌려줄 수 없음 reserve[0]\n",
    "    return answer\n",
    "\n",
    "\n",
    "n\t= 5\t\n",
    "lost = [2, 4]\n",
    "reserve = [1, 3, 5]\t\n",
    "  # return 5\n",
    "# n\t= 5\t\n",
    "# lost = [2, 4]\n",
    "# reserve = [3]\n",
    "# # return 4\n",
    "# n\t= 3\t\n",
    "# lost = [3]\n",
    "# reserve = [1]\t\n",
    "# return 2\n",
    "solution(n, lost, reserve)"
   ]
  },
  {
   "cell_type": "code",
   "execution_count": 3,
   "metadata": {},
   "outputs": [
    {
     "data": {
      "text/plain": [
       "True"
      ]
     },
     "execution_count": 3,
     "metadata": {},
     "output_type": "execute_result"
    }
   ],
   "source": [
    "reserve = [2]\t\n",
    "lost = [2, 4]\n",
    "reserve[0] in lost\n"
   ]
  },
  {
   "cell_type": "code",
   "execution_count": 4,
   "metadata": {},
   "outputs": [],
   "source": [
    "# 30개 중 43점\n",
    "def solution(n, lost, reserve):\n",
    "    neighbor = []\n",
    "    answer = n-len(lost)\n",
    "    for i in lost:\n",
    "        neighbor.append([i-1,i+1])\n",
    "        for j in neighbor[0]:\n",
    "            if j in reserve:\n",
    "                reserve.remove(j)\n",
    "                neighbor = []\n",
    "                answer += 1\n",
    "                break\n",
    "    return answer"
   ]
  },
  {
   "cell_type": "code",
   "execution_count": 5,
   "metadata": {},
   "outputs": [],
   "source": [
    "# 30개 중 53점\n",
    "def solution(n, lost, reserve):\n",
    "    neighbor = []\n",
    "    answer = n-len(lost)\n",
    "    for i in lost:\n",
    "        if i in reserve:\n",
    "            reserve.remove(i)\n",
    "            answer += 1\n",
    "        neighbor.append([i-1,i+1])\n",
    "        for j in neighbor[0]:\n",
    "            if j in reserve:\n",
    "                reserve.remove(j)\n",
    "                neighbor = []\n",
    "                answer += 1\n",
    "                break\n",
    "    return answer"
   ]
  },
  {
   "cell_type": "code",
   "execution_count": 6,
   "metadata": {},
   "outputs": [
    {
     "name": "stdout",
     "output_type": "stream",
     "text": [
      "j: 1 True\n",
      "j: 3 True\n"
     ]
    },
    {
     "data": {
      "text/plain": [
       "5"
      ]
     },
     "execution_count": 6,
     "metadata": {},
     "output_type": "execute_result"
    }
   ],
   "source": [
    "# 30개 중 53점\n",
    "def solution(n, lost, reserve):\n",
    "    neighbor = []\n",
    "    answer = n-len(lost)\n",
    "    for i in lost:\n",
    "        if i in reserve:\n",
    "            reserve.remove(i)\n",
    "            answer += 1\n",
    "        neighbor.append([i-1,i+1])\n",
    "        for j in neighbor[0]:\n",
    "            if j in reserve:\n",
    "                print(f\"j: {j} {j in reserve}\")\n",
    "\n",
    "                reserve.remove(j)\n",
    "                neighbor = []\n",
    "                answer += 1\n",
    "                break\n",
    "    return answer\n",
    "\n",
    "n = 5\n",
    "lost = [2, 4]\n",
    "reserve = [3, 4]\n",
    "n = 3\n",
    "lost = [1, 2]\n",
    "reserve = [2, 3]\n",
    "n = 5\n",
    "lost = [2, 4]\n",
    "reserve = [1, 3]\n",
    "\n",
    "solution(n, lost, reserve)\n",
    "# 기대 정답: 5"
   ]
  },
  {
   "cell_type": "code",
   "execution_count": 7,
   "metadata": {},
   "outputs": [],
   "source": [
    "# 앞 번호 먼저 도와주는 전략이 안정적\n",
    "#  lost 리스트를 정렬해서 순차적으로 확인\n",
    "# 하나의 reserve는 하나의 lost만 처리\n",
    "# 여벌 체육복을 가진 학생이 도난 > 도난 명단에서 먼저 제거\n",
    "n = 5\n",
    "lost = [2, 4]\n",
    "reserve = [3]\n",
    "n = 5\n",
    "lost = [2, 3]\n",
    "reserve = [3, 4]\n",
    "n = 3\n",
    "lost = [1, 2]\n",
    "reserve = [2, 3]\n"
   ]
  },
  {
   "cell_type": "code",
   "execution_count": 11,
   "metadata": {},
   "outputs": [
    {
     "data": {
      "text/plain": [
       "4"
      ]
     },
     "execution_count": 11,
     "metadata": {},
     "output_type": "execute_result"
    }
   ],
   "source": [
    "# 5,7,12,13,14,24 실패 80점\n",
    "# 중간리스트를 없애라 \n",
    "# 항상 neighbor[0]만 검사\n",
    "\"\"\"\n",
    "neighbor = []\n",
    "for i in lost:\n",
    "    # i = 2\n",
    "    neighbor.append([1, 3])\n",
    "    for j in neighbor[0]:  # ← 항상 첫 번째 lost의 앞뒤만 확인함\n",
    "        ...\n",
    "    neighbor = []  # ← 비워버림 (다음 반복에서는 또 다시 첫 번째 lost의 앞뒤만 append해서 neighbor[0]에 들어감)\n",
    "# 항상 현재 i의 앞뒤가 아닌, 이전 lost의 앞뒤를 참조\n",
    "\"\"\"\n",
    "\n",
    "def solution(n, lost, reserve):\n",
    "    answer = n-len(lost)\n",
    "    \n",
    "    for i in lost:\n",
    "        if i in reserve:\n",
    "            reserve.remove(i)\n",
    "            answer += 1\n",
    "        for j in [i-1,i+1]:\n",
    "            if j in reserve:\n",
    "                print(f\"j: {j} {j in reserve}\")\n",
    "                reserve.remove(j)\n",
    "                answer += 1\n",
    "                break\n",
    "    return answer\n",
    "\n",
    "n = 5\n",
    "lost = [2, 4]\n",
    "reserve = [3, 4]\n",
    "n = 3\n",
    "lost = [1, 2]\n",
    "reserve = [2, 3]\n",
    "n = 5\n",
    "lost = [2, 4]\n",
    "reserve = [1, 3]\n",
    "#### 반례 2는 빌릴 수 없음\n",
    "n = 5\n",
    "lost = [2, 3]\n",
    "reserve = [3, 4]\n",
    "\n",
    "\n",
    "solution(n, lost, reserve)"
   ]
  },
  {
   "cell_type": "code",
   "execution_count": 14,
   "metadata": {},
   "outputs": [
    {
     "name": "stdout",
     "output_type": "stream",
     "text": [
      "j: 4 True\n"
     ]
    },
    {
     "data": {
      "text/plain": [
       "5"
      ]
     },
     "execution_count": 14,
     "metadata": {},
     "output_type": "execute_result"
    }
   ],
   "source": [
    "# 13,14 실패 93.3점\n",
    "# 겹치는 사람 먼저 처리:\n",
    "def solution(n, lost, reserve):\n",
    "    answer = n-len(lost)\n",
    "    s_element = [i for i in lost if i in reserve]\n",
    "    for i in s_element:\n",
    "        if i in reserve:\n",
    "            lost.remove(i)\n",
    "            reserve.remove(i)\n",
    "            answer += 1\n",
    "\n",
    "    \n",
    "    for i in lost:\n",
    "        for j in [i-1,i+1]:\n",
    "            if j in reserve:\n",
    "                print(f\"j: {j} {j in reserve}\")\n",
    "                reserve.remove(j)\n",
    "                answer += 1\n",
    "                break\n",
    "    return answer\n",
    "n = 5\n",
    "lost = [4, 2]\n",
    "reserve = [3]\n",
    "\n",
    "lost = [3, 2]\n",
    "reserve = [2, 4]\n",
    "solution(n, lost, reserve)\n"
   ]
  },
  {
   "cell_type": "code",
   "execution_count": 12,
   "metadata": {},
   "outputs": [],
   "source": [
    "# lost와 reserve는 먼저 정렬\n",
    "# 통과\n",
    "def solution(n, lost, reserve):\n",
    "    lost = sorted(lost)\n",
    "    reserve = sorted(reserve)\n",
    "    answer = n-len(lost)\n",
    "    s_element = [i for i in lost if i in reserve]\n",
    "    for i in s_element:\n",
    "        if i in reserve:\n",
    "            lost.remove(i)\n",
    "            reserve.remove(i)\n",
    "            answer += 1\n",
    "\n",
    "    \n",
    "    for i in lost:\n",
    "        for j in [i-1,i+1]:\n",
    "            if j in reserve:\n",
    "                print(f\"j: {j} {j in reserve}\")\n",
    "                reserve.remove(j)\n",
    "                answer += 1\n",
    "                break\n",
    "    return answer"
   ]
  }
 ],
 "metadata": {
  "kernelspec": {
   "display_name": "CDT",
   "language": "python",
   "name": "python3"
  },
  "language_info": {
   "codemirror_mode": {
    "name": "ipython",
    "version": 3
   },
   "file_extension": ".py",
   "mimetype": "text/x-python",
   "name": "python",
   "nbconvert_exporter": "python",
   "pygments_lexer": "ipython3",
   "version": "3.10.0"
  },
  "orig_nbformat": 4
 },
 "nbformat": 4,
 "nbformat_minor": 2
}
