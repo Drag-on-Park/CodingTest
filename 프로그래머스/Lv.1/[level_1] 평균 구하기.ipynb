{
 "cells": [
  {
   "cell_type": "markdown",
   "id": "c30e324c",
   "metadata": {},
   "source": [
    "### 문제 설명\n",
    "정수를 담고 있는 배열 arr의 평균값을 return하는 함수, solution을 완성해보세요.\n",
    "\n",
    "### 제한 사항\n",
    "arr은 길이 1 이상, 100 이하인 배열입니다.\n",
    "arr의 원소는 -10,000 이상 10,000 이하인 정수입니다."
   ]
  },
  {
   "cell_type": "code",
   "execution_count": null,
   "id": "dfcaab2d",
   "metadata": {},
   "outputs": [],
   "source": []
  },
  {
   "cell_type": "code",
   "execution_count": 3,
   "id": "287ffa46",
   "metadata": {},
   "outputs": [
    {
     "data": {
      "text/plain": [
       "5.0"
      ]
     },
     "execution_count": 3,
     "metadata": {},
     "output_type": "execute_result"
    }
   ],
   "source": [
    "def solution(arr):\n",
    "    answer = 0\n",
    "    for i in arr:\n",
    "        answer += i\n",
    "    answer = answer / len(arr)\n",
    "    return answer\n",
    "\n",
    "arr\t= [1,2,3,4]\n",
    "# return 2.5\n",
    "arr\t= [5,5]\n",
    "# return 5\n",
    "solution(arr)"
   ]
  }
 ],
 "metadata": {
  "kernelspec": {
   "display_name": "CDT",
   "language": "python",
   "name": "python3"
  },
  "language_info": {
   "codemirror_mode": {
    "name": "ipython",
    "version": 3
   },
   "file_extension": ".py",
   "mimetype": "text/x-python",
   "name": "python",
   "nbconvert_exporter": "python",
   "pygments_lexer": "ipython3",
   "version": "3.10.0"
  }
 },
 "nbformat": 4,
 "nbformat_minor": 5
}
