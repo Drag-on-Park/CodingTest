{
 "cells": [
  {
   "cell_type": "markdown",
   "id": "55737fa6",
   "metadata": {},
   "source": [
    "### 문제 설명\n",
    "하노이 탑(Tower of Hanoi)은 퍼즐의 일종입니다. 세 개의 기둥과 이 기동에 꽂을 수 있는 크기가 다양한 원판들이 있고, 퍼즐을 시작하기 전에는 한 기둥에 원판들이 작은 것이 위에 있도록 순서대로 쌓여 있습니다. 게임의 목적은 다음 두 가지 조건을 만족시키면서, 한 기둥에 꽂힌 원판들을 그 순서 그대로 다른 기둥으로 옮겨서 다시 쌓는 것입니다.\n",
    "\n",
    "한 번에 하나의 원판만 옮길 수 있습니다.\n",
    "큰 원판이 작은 원판 위에 있어서는 안됩니다.\n",
    "하노이 탑의 세 개의 기둥을 왼쪽 부터 1번, 2번, 3번이라고 하겠습니다. 1번에는 n개의 원판이 있고 이 n개의 원판을 3번 원판으로 최소 횟수로 옮기려고 합니다.\n",
    "\n",
    "1번 기둥에 있는 원판의 개수 n이 매개변수로 주어질 때, n개의 원판을 3번 원판으로 최소로 옮기는 방법을 return하는 solution를 완성해주세요.\n",
    "\n",
    "### 제한사항\n",
    "n은 15이하의 자연수 입니다."
   ]
  },
  {
   "cell_type": "code",
   "execution_count": null,
   "id": "5bbd2c94",
   "metadata": {},
   "outputs": [
    {
     "data": {
      "text/plain": [
       "[[]]"
      ]
     },
     "execution_count": 1,
     "metadata": {},
     "output_type": "execute_result"
    }
   ],
   "source": [
    "def solution(n):\n",
    "    answer = [[]]\n",
    "    stack_1 = []\n",
    "    stack_2 = []\n",
    "    stack_3 = []\n",
    "    \n",
    "\n",
    "    return answer\n",
    "\n",
    "n = 2\n",
    "# result [ [1,2], [1,3], [2,3] ]\n",
    "solution(n)\n",
    "\n",
    "# n = 2\n",
    "# 총 3번\n",
    "# nt = 121\n",
    "# s = 233\n",
    "# 1,2 1,3 2,3\n",
    "\n",
    "# n = 3\n",
    "# 총 7번\n",
    "# nt =  1 2 1 3 1 2 1\n",
    "# s = 3 2 2 3 1 3 3\n",
    "# 1,3 1,2 3,2 1,3 2,1 2,3 1,3\n",
    "\n",
    "# n = 4 \n",
    "# 총 15번\n",
    "# nt = 1213 1214 1213 121\n",
    "# s = 233212233113233  \n",
    "# 1,2 1,3 2,3 1,2 3,1 3,2 1,2 1,3 2,3 \n",
    "# 2,1 3,1 2,3 1,2 1,3 2,3\n",
    "\n",
    "# n = 5\n",
    "# 총 33번 이동 x 최소 이동 31\n",
    "# **숫자 규칙**은\n",
    "# 1 21 3 1 21 4 1 2 1 21 3 1 21 5 1 21 3 1 21 41 21 3 1 21\n",
    "# **자리 규칙**은\n",
    "# 3 2 2 3 1 33 2 1 2 3 11 2 3 22 3 1 33 1 2 11 33 22 3 1 33\n",
    "# 1,3 1,2 3,2 1,3 2,1  2,3  1,3  1,2 3,1 3,2  1,3 2,1 3,1 3,2 1,3 1,2\n",
    "# 3,2 1,3 2,1 2,3  1,3 2,1 3,2 3,1  2,1 2,3 1,3 1,2 3,2 1,3 2,1 2,3 1,3\n",
    "\n",
    "# 2**n -1\n",
    "# 시도했던 이동규칙\n",
    "# 1,3 1,2 3,2 1,3 2,1 2,3 1,3 1,2 3,2 3,1 2,1 3,2 1,3 1,2 3,2 1,3\n",
    "# 2,1 2,3 1,3 3,1 2,1 3,2 1,2 1,3 2,3 1,2 3,2 3,1 2,1 2,3 1,3\n",
    "\n"
   ]
  },
  {
   "cell_type": "code",
   "execution_count": null,
   "id": "44d04c64",
   "metadata": {},
   "outputs": [
    {
     "name": "stdout",
     "output_type": "stream",
     "text": [
      "[3, 2, 1]\n",
      "1\n",
      "stack_2:[1]\n",
      "2\n",
      "stack_2:[1, 2]\n",
      "3\n",
      "stack_3:[3]\n",
      "[3, 2]\n"
     ]
    },
    {
     "data": {
      "text/plain": [
       "[[]]"
      ]
     },
     "execution_count": 30,
     "metadata": {},
     "output_type": "execute_result"
    }
   ],
   "source": [
    "def solution(n):\n",
    "    answer = [[]]\n",
    "    stack_1 = []\n",
    "    stack_2 = []\n",
    "    stack_3 = []\n",
    "    for i in range(n,0,-1):\n",
    "        stack_1.append(i)\n",
    "    print(stack_1)\n",
    "    # 가장 큰 수 스택 3 \n",
    "    # 그이전까지 과정 \n",
    "    while len(stack_3) <= n:\n",
    "        v = stack_1.pop()\n",
    "        print(v)\n",
    "        \n",
    "\n",
    "        if v != n:\n",
    "            stack_2.append(v)\n",
    "            print(f\"stack_2:{stack_2}\")\n",
    "        else:\n",
    "            stack_3.append(v)\n",
    "            print(f\"stack_3:{stack_3}\")\n",
    "        if stack_3:\n",
    "            if stack_3[-1] > stack_2[-1]:\n",
    "                w = stack_2.pop()\n",
    "                stack_3.append(w)\n",
    "                print(stack_3)\n",
    "        if len(stack_1) == 0 :\n",
    "            break\n",
    "\n",
    "\n",
    "        \n",
    "\n",
    "    return answer\n",
    "\n",
    "n = 2\n",
    "# result [ [1,2], [1,3], [2,3] ]\n",
    "n = 3\n",
    "solution(n)\n",
    "\n"
   ]
  },
  {
   "cell_type": "code",
   "execution_count": null,
   "id": "54fbc7d6",
   "metadata": {},
   "outputs": [
    {
     "name": "stdout",
     "output_type": "stream",
     "text": [
      "[[], [1, 3]]\n",
      "[[], [1, 3], [1, 2], [3, 2]]\n",
      "[[], [1, 3], [1, 2], [3, 2], [1, 3], [2, 1]]\n",
      "[[], [1, 3], [1, 2], [3, 2], [1, 3], [2, 1], [2, 3], [1, 3]]\n",
      "[[], [1, 3], [1, 2], [3, 2], [1, 3], [2, 1], [2, 3], [1, 3]]\n"
     ]
    },
    {
     "data": {
      "text/plain": [
       "[[1, 3], [1, 2], [3, 2], [1, 3], [2, 1], [2, 3], [1, 3]]"
      ]
     },
     "execution_count": 51,
     "metadata": {},
     "output_type": "execute_result"
    }
   ],
   "source": [
    "def solution(n):\n",
    "    answer = [[]]\n",
    "    # 시작기둥, 목표기둥, 중간기둥\n",
    "    def hanoi(n,start,end,sub):\n",
    "        if n == 1:\n",
    "            # start >>> end\n",
    "            answer.append([start,end])\n",
    "            print(answer)\n",
    "            return answer\n",
    "        \n",
    "        \n",
    "        hanoi(n-1,start,sub,end)\n",
    "        #     start>>> end\n",
    "        answer.append([start,end])\n",
    "        hanoi(n-1,sub,end,start)\n",
    "\n",
    "    \n",
    "    # 가장 큰 수 스택 3 \n",
    "    # 그이전까지 과정 \n",
    "    hanoi(n,1,3,2)\n",
    "    print(answer)  \n",
    "    answer.pop(0)\n",
    "\n",
    "    return answer\n",
    "\n",
    "n = 2\n",
    "# result [ [1,2], [1,3], [2,3] ]\n",
    "n = 3\n",
    "solution(n)\n",
    "\n"
   ]
  }
 ],
 "metadata": {
  "kernelspec": {
   "display_name": "CDT",
   "language": "python",
   "name": "python3"
  },
  "language_info": {
   "codemirror_mode": {
    "name": "ipython",
    "version": 3
   },
   "file_extension": ".py",
   "mimetype": "text/x-python",
   "name": "python",
   "nbconvert_exporter": "python",
   "pygments_lexer": "ipython3",
   "version": "3.10.0"
  }
 },
 "nbformat": 4,
 "nbformat_minor": 5
}
