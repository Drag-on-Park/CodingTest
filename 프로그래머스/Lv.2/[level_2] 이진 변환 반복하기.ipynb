{
 "cells": [
  {
   "attachments": {},
   "cell_type": "markdown",
   "metadata": {},
   "source": [
    "### 문제 설명\n",
    "0과 1로 이루어진 어떤 문자열 x에 대한 이진 변환을 다음과 같이 정의합니다.\n",
    "\n",
    "x의 모든 0을 제거합니다.\n",
    "x의 길이를 c라고 하면, x를 \"c를 2진법으로 표현한 문자열\"로 바꿉니다.\n",
    "예를 들어, x = \"0111010\"이라면, x에 이진 변환을 가하면 x = \"0111010\" -> \"1111\" -> \"100\" 이 됩니다.\n",
    "\n",
    "0과 1로 이루어진 문자열 s가 매개변수로 주어집니다. s가 \"1\"이 될 때까지 계속해서 s에 이진 변환을 가했을 때, 이진 변환의 횟수와 변환 과정에서 제거된 모든 0의 개수를 각각 배열에 담아 return 하도록 solution 함수를 완성해주세요.\n",
    "\n",
    "### 제한사항\n",
    "s의 길이는 1 이상 150,000 이하입니다.\n",
    "s에는 '1'이 최소 하나 이상 포함되어 있습니다."
   ]
  },
  {
   "cell_type": "code",
   "execution_count": 40,
   "metadata": {},
   "outputs": [
    {
     "name": "stdout",
     "output_type": "stream",
     "text": [
      "s: 3 n: 1\n",
      "s: 1 n: 11\n",
      "s: 0 n: 111\n",
      "111\n",
      "len(n):3 count: 0\n",
      "s: 1 n: 1\n",
      "s: 0 n: 11\n",
      "11\n",
      "len(n):2 count: 0\n",
      "s: 1 n: 0\n",
      "s: 0 n: 01\n",
      "10\n",
      "len(n):2 count: 0\n",
      "s: 0 n: 1\n",
      "1\n",
      "len(n):1 count: 1\n"
     ]
    },
    {
     "data": {
      "text/plain": [
       "[4, 1]"
      ]
     },
     "execution_count": 40,
     "metadata": {},
     "output_type": "execute_result"
    }
   ],
   "source": [
    "def solution(s):\n",
    "    def binary_conv(s):\n",
    "        count = 0\n",
    "        for i in s:\n",
    "            if i == '0':\n",
    "                count += 1\n",
    "        s = s.replace('0',\"\")\n",
    "        # 이진변환\n",
    "        s = len(s)\n",
    "        n = \"\"\n",
    "        rem = 0\n",
    "        while s > 0:\n",
    "            n += str(s % 2)\n",
    "            s //= 2\n",
    "            rem = s % 2\n",
    "            print(f\"s: {s} n: {n}\")\n",
    "        n += str(rem)\n",
    "        n = n[::-1]\n",
    "        print(n)\n",
    "        print(f\"len(n):{len(n)} count: {count}\")\n",
    "        return n,count\n",
    "\n",
    "    answer = []\n",
    "    call = 0\n",
    "    answer.append(call)\n",
    "    answer.append(call)\n",
    "    while len(s) > 1:\n",
    "        s,b = binary_conv(s)\n",
    "        call += 1\n",
    "        answer[0] = call\n",
    "        answer[1] += b\n",
    "\n",
    "    \n",
    "    return answer\n",
    "\n",
    "s = \"110010101001\"\n",
    "# result [3,8]\n",
    "# s = \"01110\"\t\n",
    "# result [3,3]\n",
    "# s = \"1111111\"\n",
    "# result [4,1]\n",
    "solution(s)"
   ]
  },
  {
   "cell_type": "code",
   "execution_count": 10,
   "metadata": {},
   "outputs": [
    {
     "name": "stdout",
     "output_type": "stream",
     "text": [
      "s: 12 n: 1\n",
      "s: 6 n: 10\n",
      "s: 3 n: 100\n",
      "s: 1 n: 1001\n",
      "11001\n"
     ]
    }
   ],
   "source": [
    "# 이진변환\n",
    "s = 25\n",
    "a = 0\n",
    "n = \"\"\n",
    "while s > 1:\n",
    "    n += str(s % 2)\n",
    "    s //= 2\n",
    "    \n",
    "    a = s % 2\n",
    "    print(f\"s: {s} n: {n}\")\n",
    "n += str(a)\n",
    "n = n[::-1]\n",
    "print(n)"
   ]
  },
  {
   "cell_type": "code",
   "execution_count": 42,
   "metadata": {},
   "outputs": [
    {
     "name": "stdout",
     "output_type": "stream",
     "text": [
      "s: 3 n: 0\n",
      "s: 1 n: 01\n",
      "s: 0 n: 011\n",
      "110\n",
      "len(n):3 count: 6\n",
      "s: 1 n: 0\n",
      "s: 0 n: 01\n",
      "10\n",
      "len(n):2 count: 1\n",
      "s: 0 n: 1\n",
      "1\n",
      "len(n):1 count: 1\n"
     ]
    },
    {
     "data": {
      "text/plain": [
       "[3, 8]"
      ]
     },
     "execution_count": 42,
     "metadata": {},
     "output_type": "execute_result"
    }
   ],
   "source": [
    "# rem으로 n이 쓸데없이 숫자가 추가되고 있엇음\n",
    "def solution(s):\n",
    "    def binary_conv(s):\n",
    "        count = 0\n",
    "        for i in s:\n",
    "            if i == '0':\n",
    "                count += 1\n",
    "        s = s.replace('0',\"\")\n",
    "        # 이진변환\n",
    "        s = len(s)\n",
    "        n = \"\"\n",
    "        while s > 0:\n",
    "            n += str(s % 2)\n",
    "            s //= 2\n",
    "            print(f\"s: {s} n: {n}\")\n",
    "        n = n[::-1]\n",
    "        print(n)\n",
    "        print(f\"len(n):{len(n)} count: {count}\")\n",
    "        return n,count\n",
    "\n",
    "    answer = []\n",
    "    call = 0\n",
    "    answer.append(call)\n",
    "    answer.append(call)\n",
    "    while len(s) > 1:\n",
    "        s,b = binary_conv(s)\n",
    "        call += 1\n",
    "        answer[0] = call\n",
    "        answer[1] += b\n",
    " \n",
    "    \n",
    "    return answer\n",
    "\n",
    "s = \"110010101001\"\n",
    "# result [3,8]\n",
    "# s = \"01110\"\t\n",
    "# result [3,3]\n",
    "# s = \"1111111\"\n",
    "# result [4,1]\n",
    "solution(s)"
   ]
  }
 ],
 "metadata": {
  "kernelspec": {
   "display_name": "CDT",
   "language": "python",
   "name": "python3"
  },
  "language_info": {
   "codemirror_mode": {
    "name": "ipython",
    "version": 3
   },
   "file_extension": ".py",
   "mimetype": "text/x-python",
   "name": "python",
   "nbconvert_exporter": "python",
   "pygments_lexer": "ipython3",
   "version": "3.10.0"
  },
  "orig_nbformat": 4
 },
 "nbformat": 4,
 "nbformat_minor": 2
}
