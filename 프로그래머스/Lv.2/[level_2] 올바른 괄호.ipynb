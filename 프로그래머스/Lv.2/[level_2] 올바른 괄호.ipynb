{
 "cells": [
  {
   "cell_type": "markdown",
   "id": "91258b84",
   "metadata": {},
   "source": [
    "### 문제 설명\n",
    "괄호가 바르게 짝지어졌다는 것은 '(' 문자로 열렸으면 반드시 짝지어서 ')' 문자로 닫혀야 한다는 뜻입니다. 예를 들어\n",
    "\n",
    "\"()()\" 또는 \"(())()\" 는 올바른 괄호입니다.\n",
    "\")()(\" 또는 \"(()(\" 는 올바르지 않은 괄호입니다.\n",
    "'(' 또는 ')' 로만 이루어진 문자열 s가 주어졌을 때, 문자열 s가 올바른 괄호이면 true를 return 하고, 올바르지 않은 괄호이면 false를 return 하는 solution 함수를 완성해 주세요.\n",
    "\n",
    "### 제한사항\n",
    "문자열 s의 길이 : 100,000 이하의 자연수\n",
    "문자열 s는 '(' 또는 ')' 로만 이루어져 있습니다."
   ]
  },
  {
   "cell_type": "code",
   "execution_count": null,
   "id": "1003d646",
   "metadata": {},
   "outputs": [
    {
     "name": "stdout",
     "output_type": "stream",
     "text": [
      "deque([])\n",
      "<class 'collections.deque'>\n",
      "deque([')'])\n",
      "deque([])\n",
      "queue: deque([])\n"
     ]
    },
    {
     "data": {
      "text/plain": [
       "True"
      ]
     },
     "execution_count": 20,
     "metadata": {},
     "output_type": "execute_result"
    }
   ],
   "source": [
    "## queue를 스택처럼 사용함 스택으로 다시구현\n",
    "# 5,6,11,17 효율성 2 실패\n",
    "from collections import deque\n",
    "def solution(s):\n",
    "    answer = True\n",
    "    temp = [i for i in s]\n",
    "    queue = deque([])\n",
    "    print(queue)\n",
    "    queue.append(temp.pop())\n",
    "    print(type(queue))\n",
    "    v = []\n",
    "    while queue:\n",
    "        if not temp:\n",
    "            return False\n",
    "        print(queue)\n",
    "        queue.append(temp.pop())\n",
    "        v = queue.pop()\n",
    "        if v == \"(\":\n",
    "            if queue[0] == \")\":\n",
    "                queue.popleft()\n",
    "        elif v == \")\":\n",
    "            continue\n",
    "        else:\n",
    "            continue\n",
    "        print(queue)\n",
    "    print(f\"queue: {queue}\")\n",
    "\n",
    "    return True\n",
    "\n",
    "s = \"()()\"\n",
    "# answer true\n",
    "s = \"(())()\"\n",
    "# answer true\n",
    "s = \")()(\"\n",
    "# answer false\n",
    "s = \"(()(\"\n",
    "# answer false\n",
    "s = \"(()\"\n",
    "# answer false\n",
    "\n",
    "solution(s)"
   ]
  },
  {
   "cell_type": "code",
   "execution_count": 23,
   "id": "a1a147b4",
   "metadata": {},
   "outputs": [
    {
     "data": {
      "text/plain": [
       "False"
      ]
     },
     "execution_count": 23,
     "metadata": {},
     "output_type": "execute_result"
    }
   ],
   "source": [
    "\n",
    "## queue를 스택처럼 사용함 스택으로 다시구현\n",
    "# 5,6,11,17 효율성 2 실패\n",
    "\n",
    "def solution(s):\n",
    "    answer = True\n",
    "    stack = []\n",
    "    for i in s:\n",
    "        if i == \"(\":\n",
    "            stack.append(i)\n",
    "        else:\n",
    "            if not stack:\n",
    "                return False\n",
    "            stack.pop()\n",
    "    return len(stack) == 0\n",
    "\n",
    "s = \"()()\"\n",
    "# answer true\n",
    "s = \"(())()\"\n",
    "# answer true\n",
    "s = \")()(\"\n",
    "# answer false\n",
    "s = \"(()(\"\n",
    "# answer false\n",
    "s = \"(()\"\n",
    "# answer false\n",
    "\n",
    "solution(s)"
   ]
  }
 ],
 "metadata": {
  "kernelspec": {
   "display_name": "CDT",
   "language": "python",
   "name": "python3"
  },
  "language_info": {
   "codemirror_mode": {
    "name": "ipython",
    "version": 3
   },
   "file_extension": ".py",
   "mimetype": "text/x-python",
   "name": "python",
   "nbconvert_exporter": "python",
   "pygments_lexer": "ipython3",
   "version": "3.10.0"
  }
 },
 "nbformat": 4,
 "nbformat_minor": 5
}
