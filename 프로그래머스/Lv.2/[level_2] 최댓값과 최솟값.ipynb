{
 "cells": [
  {
   "attachments": {},
   "cell_type": "markdown",
   "metadata": {},
   "source": [
    "### 문제 설명\n",
    "문자열 s에는 공백으로 구분된 숫자들이 저장되어 있습니다. str에 나타나는 숫자 중 최소값과 최대값을 찾아 이를 \"(최소값) (최대값)\"형태의 문자열을 반환하는 함수, solution을 완성하세요.\n",
    "예를들어 s가 \"1 2 3 4\"라면 \"1 4\"를 리턴하고, \"-1 -2 -3 -4\"라면 \"-4 -1\"을 리턴하면 됩니다.\n",
    "\n",
    "#### 제한 조건\n",
    "s에는 둘 이상의 정수가 공백으로 구분되어 있습니다."
   ]
  },
  {
   "cell_type": "code",
   "execution_count": 17,
   "metadata": {},
   "outputs": [
    {
     "name": "stdout",
     "output_type": "stream",
     "text": [
      "[-1]\n",
      "[-1, -2]\n",
      "[-1, -2, -3]\n",
      "[-1, -2, -3, -4]\n",
      "[-4, -3, -2, -1]\n",
      "['-1', '-2', '-3', '-4']\n"
     ]
    },
    {
     "data": {
      "text/plain": [
       "'-4 -1'"
      ]
     },
     "execution_count": 17,
     "metadata": {},
     "output_type": "execute_result"
    }
   ],
   "source": [
    "def solution(s):\n",
    "    answer = ''\n",
    "    slc_s = s.split(\" \")\n",
    "    int_slc = []\n",
    "    for i in slc_s:\n",
    "        int_slc.append(int(i))\n",
    "        print(int_slc)\n",
    "    int_slc.sort()\n",
    "    answer += f\"{(int_slc[0])} \"\n",
    "    answer += str(int_slc[len(int_slc)-1])\n",
    "    print(int_slc)\n",
    "    print(slc_s)\n",
    "    return answer\n",
    "s = \"1 2 3 4\"\t\n",
    "# return \"1 4\"\n",
    "s = \"-1 -2 -3 -4\"\n",
    "# return \"-4 -1\"\n",
    "# s = \"-1 -1\"\t\n",
    "# return \"-1 -1\"\n",
    "\t\n",
    "solution(s)"
   ]
  }
 ],
 "metadata": {
  "kernelspec": {
   "display_name": "CDT",
   "language": "python",
   "name": "python3"
  },
  "language_info": {
   "codemirror_mode": {
    "name": "ipython",
    "version": 3
   },
   "file_extension": ".py",
   "mimetype": "text/x-python",
   "name": "python",
   "nbconvert_exporter": "python",
   "pygments_lexer": "ipython3",
   "version": "3.10.0"
  },
  "orig_nbformat": 4
 },
 "nbformat": 4,
 "nbformat_minor": 2
}
