{
 "cells": [
  {
   "attachments": {},
   "cell_type": "markdown",
   "metadata": {},
   "source": [
    "### 문제 설명\n",
    "코니는 매일 다른 옷을 조합하여 입는것을 좋아합니다.\n",
    "\n",
    "예를 들어 코니가 가진 옷이 아래와 같고, 오늘 코니가 동그란 안경, 긴 코트, 파란색 티셔츠를 입었다면 다음날은 청바지를 추가로 입거나 동그란 안경 대신 검정 선글라스를 착용하거나 해야합니다.\n",
    "\n",
    "종류\t이름\n",
    "얼굴\t동그란 안경, 검정 선글라스\n",
    "상의\t파란색 티셔츠\n",
    "하의\t청바지\n",
    "겉옷\t긴 코트\n",
    "코니는 각 종류별로 최대 1가지 의상만 착용할 수 있습니다. 예를 들어 위 예시의 경우 동그란 안경과 검정 선글라스를 동시에 착용할 수는 없습니다.\n",
    "착용한 의상의 일부가 겹치더라도, 다른 의상이 겹치지 않거나, 혹은 의상을 추가로 더 착용한 경우에는 서로 다른 방법으로 옷을 착용한 것으로 계산합니다.\n",
    "코니는 하루에 최소 한 개의 의상은 입습니다.\n",
    "코니가 가진 의상들이 담긴 2차원 배열 clothes가 주어질 때 서로 다른 옷의 조합의 수를 return 하도록 solution 함수를 작성해주세요.\n",
    "\n",
    "### 제한사항\n",
    "clothes의 각 행은 [의상의 이름, 의상의 종류]로 이루어져 있습니다.\n",
    "코니가 가진 의상의 수는 1개 이상 30개 이하입니다.\n",
    "같은 이름을 가진 의상은 존재하지 않습니다.\n",
    "clothes의 모든 원소는 문자열로 이루어져 있습니다.\n",
    "모든 문자열의 길이는 1 이상 20 이하인 자연수이고 알파벳 소문자 또는 '_' 로만 이루어져 있습니다."
   ]
  },
  {
   "cell_type": "code",
   "execution_count": 1,
   "metadata": {},
   "outputs": [
    {
     "name": "stdout",
     "output_type": "stream",
     "text": [
      "{'headgear': ['yellow_hat']}\n",
      "{'headgear': ['yellow_hat'], 'eyewear': ['blue_sunglasses']}\n",
      "{'headgear': ['yellow_hat', 'green_turban'], 'eyewear': ['blue_sunglasses']}\n",
      "2\n"
     ]
    },
    {
     "data": {
      "text/plain": [
       "0"
      ]
     },
     "execution_count": 1,
     "metadata": {},
     "output_type": "execute_result"
    }
   ],
   "source": [
    "# 종류 = key 이름 = value\n",
    "# value 중복\n",
    "def solution(clothes):\n",
    "    answer = 0\n",
    "    clothes_type = {}\n",
    "    for i in clothes:\n",
    "        if i[1] not in clothes_type:\n",
    "            clothes_type[i[1]] = []\n",
    "        clothes_type[i[1]].append(i[0])\n",
    "        print(clothes_type)\n",
    "    for j in range(len(clothes_type)):\n",
    "        pass\n",
    "    print(len(clothes_type))\n",
    "    return answer\n",
    "clothes = [[\"yellow_hat\", \"headgear\"], [\"blue_sunglasses\", \"eyewear\"], [\"green_turban\", \"headgear\"]]\n",
    "# return 5\n",
    "# clothes = [[\"crow_mask\", \"face\"], [\"blue_sunglasses\", \"face\"], [\"smoky_makeup\", \"face\"]]\n",
    "# return 3\n",
    "\n",
    "solution(clothes)"
   ]
  },
  {
   "cell_type": "code",
   "execution_count": 3,
   "metadata": {},
   "outputs": [
    {
     "name": "stdout",
     "output_type": "stream",
     "text": [
      "{'face': ['crow_mask']}\n",
      "{'face': ['crow_mask', 'blue_sunglasses']}\n",
      "{'face': ['crow_mask', 'blue_sunglasses', 'smoky_makeup']}\n"
     ]
    },
    {
     "data": {
      "text/plain": [
       "3"
      ]
     },
     "execution_count": 3,
     "metadata": {},
     "output_type": "execute_result"
    }
   ],
   "source": [
    "# 종류 = key 이름 = value\n",
    "# value 중복\n",
    "def solution(clothes):\n",
    "    answer = 0\n",
    "    clothes_type = {}\n",
    "    temp = 1\n",
    "    for i in clothes:\n",
    "        if i[1] not in clothes_type:\n",
    "            clothes_type[i[1]] = []\n",
    "        clothes_type[i[1]].append(i[0])\n",
    "        print(clothes_type)\n",
    "    for j in clothes_type:\n",
    "        if len(clothes_type) == 1:\n",
    "            return len(clothes_type[j])\n",
    "        \n",
    "        answer += len(clothes_type[j])\n",
    "        temp *= len(clothes_type[j])\n",
    "    answer += temp\n",
    "    print(len(clothes_type))\n",
    "    return answer\n",
    "clothes = [[\"yellow_hat\", \"headgear\"], [\"blue_sunglasses\", \"eyewear\"], [\"green_turban\", \"headgear\"]]\n",
    "# return 5\n",
    "clothes = [[\"crow_mask\", \"face\"], [\"blue_sunglasses\", \"face\"], [\"smoky_makeup\", \"face\"]]\n",
    "# return 3\n",
    "\n",
    "solution(clothes)"
   ]
  },
  {
   "cell_type": "code",
   "execution_count": 46,
   "metadata": {},
   "outputs": [
    {
     "name": "stdout",
     "output_type": "stream",
     "text": [
      "{'headgear': ['yellow_hat']}\n",
      "{'headgear': ['yellow_hat'], 'eyewear': ['blue_sunglasses']}\n",
      "{'headgear': ['yellow_hat', 'green_turban'], 'eyewear': ['blue_sunglasses']}\n",
      "{'headgear': ['yellow_hat', 'green_turban'], 'eyewear': ['blue_sunglasses', 'blue_sunglasses1']}\n",
      "{'headgear': ['yellow_hat', 'green_turban'], 'eyewear': ['blue_sunglasses', 'blue_sunglasses1', 'blue_sunglasses2']}\n",
      "['yellow_hat', 'green_turban']\n",
      "['blue_sunglasses', 'blue_sunglasses1', 'blue_sunglasses2']\n",
      "2\n"
     ]
    },
    {
     "data": {
      "text/plain": [
       "11"
      ]
     },
     "execution_count": 46,
     "metadata": {},
     "output_type": "execute_result"
    }
   ],
   "source": [
    "# 종류 = key 이름 = value\n",
    "# value 중복\n",
    "# 자기 자신 + 자기 자신 * 다른종류 \n",
    "# 안입는 경우 ***\n",
    "def solution(clothes):\n",
    "    answer = 1\n",
    "    clothes_type = {}\n",
    "    for i in clothes:\n",
    "        if i[1] not in clothes_type:\n",
    "            clothes_type[i[1]] = []\n",
    "        clothes_type[i[1]].append(i[0])\n",
    "        print(clothes_type)\n",
    "\n",
    "    for j in clothes_type:\n",
    "        if len(clothes_type) == 1:\n",
    "            return len(clothes_type[j])\n",
    "            \n",
    "        answer *= len(clothes_type[j])+1\n",
    "        print((clothes_type[j]))\n",
    "    print(len(clothes_type))\n",
    "        \n",
    "    return answer -1\n",
    "\n",
    "clothes\t= [[\"yellow_hat\", \"headgear\"], [\"blue_sunglasses\", \"eyewear\"], [\"green_turban\", \"headgear\"]]\t\n",
    "clothes\t= [[\"yellow_hat\", \"headgear\"], [\"blue_sunglasses\", \"eyewear\"], [\"green_turban\", \"headgear\"], [\"blue_sunglasses1\", \"eyewear\"], [\"blue_sunglasses2\", \"eyewear\"]]\t\n",
    "# return 5\n",
    "# clothes\t= [[\"crow_mask\", \"face\"], [\"blue_sunglasses\", \"face\"], [\"smoky_makeup\", \"face\"]]\n",
    "# return 3\n",
    "\t\n",
    "\n",
    "solution(clothes)"
   ]
  },
  {
   "cell_type": "code",
   "execution_count": null,
   "metadata": {},
   "outputs": [],
   "source": [
    "def solution(clothes):\n",
    "    answer = 1\n",
    "    clothes_type = {}\n",
    "    for i in clothes:\n",
    "        if i[1] not in clothes_type:\n",
    "            clothes_type[i[1]] = []\n",
    "        clothes_type[i[1]].append(i[0])\n",
    "\n",
    "    for j in clothes_type:\n",
    "        if len(clothes_type) == 1:\n",
    "            return len(clothes_type[j])\n",
    "            \n",
    "        answer *= len(clothes_type[j])+1\n",
    "    return answer -1"
   ]
  },
  {
   "cell_type": "code",
   "execution_count": 5,
   "metadata": {},
   "outputs": [
    {
     "data": {
      "text/plain": [
       "-3672589817589002554"
      ]
     },
     "execution_count": 5,
     "metadata": {},
     "output_type": "execute_result"
    }
   ],
   "source": [
    "\n",
    "a = 'apple'\n",
    "b = 'apple'\n",
    "\n",
    "hash(a)\n",
    "# hash(b)\n",
    "# -3672589817589002554\n"
   ]
  }
 ],
 "metadata": {
  "kernelspec": {
   "display_name": "CDT",
   "language": "python",
   "name": "python3"
  },
  "language_info": {
   "codemirror_mode": {
    "name": "ipython",
    "version": 3
   },
   "file_extension": ".py",
   "mimetype": "text/x-python",
   "name": "python",
   "nbconvert_exporter": "python",
   "pygments_lexer": "ipython3",
   "version": "3.10.0"
  },
  "orig_nbformat": 4
 },
 "nbformat": 4,
 "nbformat_minor": 2
}
