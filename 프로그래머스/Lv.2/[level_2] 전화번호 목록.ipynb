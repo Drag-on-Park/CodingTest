{
 "cells": [
  {
   "cell_type": "markdown",
   "id": "382c7d36",
   "metadata": {},
   "source": [
    "# 문제 설명\n",
    "전화번호부에 적힌 전화번호 중, 한 번호가 다른 번호의 접두어인 경우가 있는지 확인하려 합니다.\n",
    "전화번호가 다음과 같을 경우, 구조대 전화번호는 영석이의 전화번호의 접두사입니다.\n",
    "\n",
    "구조대 : 119\n",
    "박준영 : 97 674 223\n",
    "지영석 : 11 9552 4421\n",
    "전화번호부에 적힌 전화번호를 담은 배열 phone_book 이 solution 함수의 매개변수로 주어질 때, 어떤 번호가 다른 번호의 접두어인 경우가 있으면 false를 그렇지 않으면 true를 return 하도록 solution 함수를 작성해주세요.\n",
    "\n",
    "### 제한 사항\n",
    "phone_book의 길이는 1 이상 1,000,000 이하입니다.\n",
    "각 전화번호의 길이는 1 이상 20 이하입니다.\n",
    "같은 전화번호가 중복해서 들어있지 않습니다."
   ]
  },
  {
   "cell_type": "code",
   "execution_count": 1,
   "id": "c60d6493",
   "metadata": {},
   "outputs": [
    {
     "name": "stdout",
     "output_type": "stream",
     "text": [
      "i: 12, j:123\n",
      "i: 12, j:1235\n",
      "i: 12, j:567\n",
      "i: 12, j:88\n",
      "i: 123, j:12\n",
      "i: 123, j:1235\n",
      "i: 123, j:567\n",
      "i: 123, j:88\n",
      "i: 1235, j:12\n",
      "i: 1235, j:123\n",
      "i: 1235, j:567\n",
      "i: 1235, j:88\n",
      "i: 567, j:12\n",
      "i: 567, j:123\n",
      "i: 567, j:1235\n",
      "i: 567, j:88\n",
      "i: 88, j:12\n",
      "i: 88, j:123\n",
      "i: 88, j:1235\n",
      "i: 88, j:567\n"
     ]
    },
    {
     "data": {
      "text/plain": [
       "True"
      ]
     },
     "execution_count": 1,
     "metadata": {},
     "output_type": "execute_result"
    }
   ],
   "source": [
    "def solution(phone_book):\n",
    "    answer = True\n",
    "    # 반복문으로 각 요소별로 전체 리스트 접두어 검사 \n",
    "    # \n",
    "    for i in phone_book:\n",
    "        for j in phone_book:\n",
    "            if i == j :\n",
    "                continue\n",
    "            print(f\"i: {i}, j:{j}\")\n",
    "    return answer\n",
    "\n",
    "phone_book\t= [\"119\", \"97674223\", \"1195524421\"]\t\n",
    "# return false\n",
    "phone_book\t= [\"123\",\"456\",\"789\"]\n",
    "# return true\n",
    "phone_book\t= [\"12\",\"123\",\"1235\",\"567\",\"88\"]\n",
    "# return false\n",
    "\n",
    "solution(phone_book)"
   ]
  },
  {
   "cell_type": "code",
   "execution_count": null,
   "id": "f3479257",
   "metadata": {},
   "outputs": [
    {
     "name": "stdout",
     "output_type": "stream",
     "text": [
      "slice_j: 12\n",
      "i: 12, j:123\n",
      "slice_j: 12\n",
      "i: 12, j:1235\n",
      "slice_j: 56\n",
      "i: 12, j:567\n",
      "slice_j: 88\n",
      "i: 12, j:88\n",
      "slice_j: 12\n",
      "i: 123, j:12\n",
      "slice_j: 123\n",
      "i: 123, j:1235\n",
      "slice_j: 567\n",
      "i: 123, j:567\n",
      "slice_j: 88\n",
      "i: 123, j:88\n",
      "slice_j: 12\n",
      "i: 1235, j:12\n",
      "slice_j: 123\n",
      "i: 1235, j:123\n",
      "slice_j: 567\n",
      "i: 1235, j:567\n",
      "slice_j: 88\n",
      "i: 1235, j:88\n",
      "slice_j: 12\n",
      "i: 567, j:12\n",
      "slice_j: 123\n",
      "i: 567, j:123\n",
      "slice_j: 123\n",
      "i: 567, j:1235\n",
      "slice_j: 88\n",
      "i: 567, j:88\n",
      "slice_j: 12\n",
      "i: 88, j:12\n",
      "slice_j: 12\n",
      "i: 88, j:123\n",
      "slice_j: 12\n",
      "i: 88, j:1235\n",
      "slice_j: 56\n",
      "i: 88, j:567\n"
     ]
    },
    {
     "data": {
      "text/plain": [
       "True"
      ]
     },
     "execution_count": 9,
     "metadata": {},
     "output_type": "execute_result"
    }
   ],
   "source": [
    "# 13,14 실패 효율성 3,4 시간초과\n",
    "def solution(phone_book):\n",
    "    answer = True\n",
    "    # 반복문으로 각 요소별로 전체 리스트 접두어 검사 \n",
    "    # \n",
    "    for i in phone_book:\n",
    "        for j in phone_book:\n",
    "            if i == j :\n",
    "                continue\n",
    "            print(f\"slice_j: {j[:len(i)]}\")\n",
    "            if i == j[:len(i)+1]:\n",
    "                print(\"false\")\n",
    "                return False\n",
    "            print(f\"i: {i}, j:{j}\")\n",
    "    return answer\n",
    "\n",
    "phone_book\t= [\"119\", \"97674223\", \"1195524421\"]\t\n",
    "# return false\n",
    "phone_book\t= [\"123\",\"456\",\"789\"]\n",
    "# return true\n",
    "phone_book\t= [\"12\",\"123\",\"1235\",\"567\",\"88\"]\n",
    "# return false\n",
    "\n",
    "solution(phone_book)"
   ]
  },
  {
   "cell_type": "code",
   "execution_count": null,
   "id": "875f3083",
   "metadata": {},
   "outputs": [
    {
     "name": "stdout",
     "output_type": "stream",
     "text": [
      "slice_j: 12\n",
      "false\n"
     ]
    },
    {
     "data": {
      "text/plain": [
       "False"
      ]
     },
     "execution_count": 12,
     "metadata": {},
     "output_type": "execute_result"
    }
   ],
   "source": [
    "# 효율성 3,4 시간초과\n",
    "def solution(phone_book):\n",
    "    answer = True\n",
    "    # 반복문으로 각 요소별로 전체 리스트 접두어 검사 \n",
    "    # \n",
    "    for i in phone_book:\n",
    "        for j in phone_book:\n",
    "            if i == j :\n",
    "                continue\n",
    "            print(f\"slice_j: {j[:len(i)]}\")\n",
    "            if i == j[:len(i)]:\n",
    "                print(\"false\")\n",
    "                return False\n",
    "            print(f\"i: {i}, j:{j}\")\n",
    "    return answer\n",
    "\n",
    "phone_book\t= [\"119\", \"97674223\", \"1195524421\"]\t\n",
    "# return false\n",
    "phone_book\t= [\"123\",\"456\",\"789\"]\n",
    "# return true\n",
    "phone_book\t= [\"12\",\"123\",\"1235\",\"567\",\"88\"]\n",
    "# return false\n",
    "\n",
    "solution(phone_book)"
   ]
  },
  {
   "cell_type": "code",
   "execution_count": 14,
   "id": "990a1311",
   "metadata": {},
   "outputs": [
    {
     "name": "stdout",
     "output_type": "stream",
     "text": [
      "slice_j: 12\n",
      "false\n"
     ]
    },
    {
     "data": {
      "text/plain": [
       "False"
      ]
     },
     "execution_count": 14,
     "metadata": {},
     "output_type": "execute_result"
    }
   ],
   "source": [
    "# 효율성 3,4 시간초과\n",
    "def solution(phone_book):\n",
    "    answer = True\n",
    "    phone_book.sort()\n",
    "    # 반복문으로 각 요소별로 전체 리스트 접두어 검사 \n",
    "    # \n",
    "    for i in phone_book:\n",
    "        for j in phone_book:\n",
    "            if i == j :\n",
    "                continue\n",
    "            print(f\"slice_j: {j[:len(i)]}\")\n",
    "            if i == j[:len(i)]:\n",
    "                print(\"false\")\n",
    "                return False\n",
    "            print(f\"i: {i}, j:{j}\")\n",
    "    return answer\n",
    "\n",
    "phone_book\t= [\"119\", \"97674223\", \"1195524421\"]\t\n",
    "# return false\n",
    "phone_book\t= [\"123\",\"456\",\"789\"]\n",
    "# return true\n",
    "phone_book\t= [\"12\",\"123\",\"1235\",\"567\",\"88\"]\n",
    "# return false\n",
    "\n",
    "solution(phone_book)"
   ]
  },
  {
   "cell_type": "code",
   "execution_count": null,
   "id": "b64f9127",
   "metadata": {},
   "outputs": [
    {
     "data": {
      "text/plain": [
       "False"
      ]
     },
     "execution_count": 18,
     "metadata": {},
     "output_type": "execute_result"
    }
   ],
   "source": [
    "# 길이가 긴 리스트 True 반환\n",
    "# 효율성 3,4 시간초과\n",
    "# Runtime error\n",
    "def solution(phone_book):\n",
    "    answer = True\n",
    "    phone_book.sort()\n",
    "    # 반복문으로 각 요소별로 전체 리스트 접두어 검사 \n",
    "    # 2중 for문 O(n**2) + @ \n",
    "    for i in range(len(phone_book)):\n",
    "        if phone_book[i+1].startswith(phone_book[i]):\n",
    "            return False\n",
    "\n",
    "    return answer\n",
    "\n",
    "phone_book\t= [\"119\", \"97674223\", \"1195524421\"]\t\n",
    "# return false\n",
    "phone_book\t= [\"123\",\"456\",\"789\"]\n",
    "# return true\n",
    "phone_book\t= [\"12\",\"123\",\"1235\",\"567\",\"88\"]\n",
    "# return false\n",
    "\n",
    "solution(phone_book)"
   ]
  },
  {
   "cell_type": "code",
   "execution_count": 19,
   "id": "ed28c3a3",
   "metadata": {},
   "outputs": [
    {
     "data": {
      "text/plain": [
       "False"
      ]
     },
     "execution_count": 19,
     "metadata": {},
     "output_type": "execute_result"
    }
   ],
   "source": [
    "# 길이가 긴 리스트 True 반환\n",
    "# 효율성 3,4 시간초과\n",
    "# Runtime error\n",
    "def solution(phone_book):\n",
    "    answer = True\n",
    "    phone_book.sort()\n",
    "    # 반복문으로 각 요소별로 전체 리스트 접두어 검사 \n",
    "    # 2중 for문 O(n**2) + @ \n",
    "    for i in range(len(phone_book)-1):\n",
    "        if phone_book[i+1].startswith(phone_book[i]):\n",
    "            return False\n",
    "\n",
    "    return answer\n",
    "\n",
    "phone_book\t= [\"119\", \"97674223\", \"1195524421\"]\t\n",
    "# return false\n",
    "phone_book\t= [\"123\",\"456\",\"789\"]\n",
    "# return true\n",
    "phone_book\t= [\"12\",\"123\",\"1235\",\"567\",\"88\"]\n",
    "# return false\n",
    "\n",
    "solution(phone_book)"
   ]
  }
 ],
 "metadata": {
  "kernelspec": {
   "display_name": "CDT",
   "language": "python",
   "name": "python3"
  },
  "language_info": {
   "codemirror_mode": {
    "name": "ipython",
    "version": 3
   },
   "file_extension": ".py",
   "mimetype": "text/x-python",
   "name": "python",
   "nbconvert_exporter": "python",
   "pygments_lexer": "ipython3",
   "version": "3.10.0"
  }
 },
 "nbformat": 4,
 "nbformat_minor": 5
}
